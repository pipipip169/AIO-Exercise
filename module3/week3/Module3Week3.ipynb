{
  "nbformat": 4,
  "nbformat_minor": 0,
  "metadata": {
    "colab": {
      "provenance": []
    },
    "kernelspec": {
      "name": "python3",
      "display_name": "Python 3"
    },
    "language_info": {
      "name": "python"
    }
  },
  "cells": [
    {
      "cell_type": "markdown",
      "source": [
        "# 1.Decision Tree for Classification"
      ],
      "metadata": {
        "id": "9zdBSQ3GOSqv"
      }
    },
    {
      "cell_type": "markdown",
      "source": [
        "**Câu 1 A**"
      ],
      "metadata": {
        "id": "mDua9HWhKps2"
      }
    },
    {
      "cell_type": "markdown",
      "source": [
        "**Câu 2 C**"
      ],
      "metadata": {
        "id": "1Z31SBODLAD9"
      }
    },
    {
      "cell_type": "code",
      "source": [
        "import numpy as np\n",
        "\n",
        "# Nhập dữ liệu từ bảng\n",
        "data = np.array([\n",
        "    [23, 0, 0, 0],\n",
        "    [25, 1, 1, 0],\n",
        "    [27, 1, 0, 1],\n",
        "    [29, 0, 1, 1],\n",
        "    [29, 0, 0, 0]\n",
        "])\n",
        "\n",
        "# Chia dữ liệu thành hai nhóm dựa trên điều kiện 'Age <= 26'\n",
        "D1 = data[:, -1]  # Lấy cột 'Raise Salary' cho D1\n",
        "\n",
        "\n",
        "# Hàm tính Gini Index\n",
        "def calculate_gini(group):\n",
        "    total = len(group)\n",
        "    positive_count = sum(group)\n",
        "    negative_count = total - positive_count\n",
        "    p_positive = positive_count / total\n",
        "    p_negative = negative_count / total\n",
        "    gini = 1 - (p_positive ** 2 + p_negative ** 2)\n",
        "    return gini\n",
        "# Tính Gini D1\n",
        "gini_D1 = calculate_gini(D1)\n",
        "print(f\"Gini Index cho 'Raise Salary': {gini_D1:.2f}\")"
      ],
      "metadata": {
        "colab": {
          "base_uri": "https://localhost:8080/"
        },
        "id": "85jN8wlYVn2R",
        "outputId": "b45ee43e-f101-4e47-b9a3-aa8d5022fdf3"
      },
      "execution_count": 16,
      "outputs": [
        {
          "output_type": "stream",
          "name": "stdout",
          "text": [
            "Gini Index cho 'Raise Salary': 0.48\n"
          ]
        }
      ]
    },
    {
      "cell_type": "markdown",
      "source": [
        "**Câu 3 D**"
      ],
      "metadata": {
        "id": "5cVA--9ALCrf"
      }
    },
    {
      "cell_type": "code",
      "source": [
        "import numpy as np\n",
        "\n",
        "# Nhập dữ liệu từ bảng\n",
        "data = np.array([\n",
        "    [23, 0, 0, 0],\n",
        "    [25, 1, 1, 0],\n",
        "    [27, 1, 0, 1],\n",
        "    [29, 0, 1, 1],\n",
        "    [29, 0, 0, 0]\n",
        "])\n",
        "\n",
        "def calculate_gini(group):\n",
        "    total = len(group)\n",
        "    if total == 0:\n",
        "        return 0\n",
        "    positive_count = sum(group)\n",
        "    negative_count = total - positive_count\n",
        "    p_positive = positive_count / total\n",
        "    p_negative = negative_count / total\n",
        "    gini = 1 - (p_positive ** 2 + p_negative ** 2)\n",
        "    return gini\n",
        "\n",
        "def calculate_gini_for_attribute(data, attribute_index, target_index):\n",
        "    attribute_values = data[:, attribute_index]\n",
        "    target_values = data[:, target_index]\n",
        "\n",
        "    unique_values = np.unique(attribute_values)\n",
        "    total_samples = len(data)\n",
        "\n",
        "    weighted_gini = 0\n",
        "    for value in unique_values:\n",
        "        subset = target_values[attribute_values == value]\n",
        "        subset_size = len(subset)\n",
        "        subset_gini = calculate_gini(subset)\n",
        "        weighted_gini += (subset_size / total_samples) * subset_gini\n",
        "\n",
        "    return weighted_gini\n",
        "\n",
        "# Tính Gini cho 'Likes English' (cột thứ 2, index 1)\n",
        "gini_likes_english = calculate_gini_for_attribute(data, 1, -1)\n",
        "\n",
        "print(f\"Gini Index cho 'Likes English': {gini_likes_english:.2f}\")"
      ],
      "metadata": {
        "colab": {
          "base_uri": "https://localhost:8080/"
        },
        "id": "Qvr3WSiUY4z3",
        "outputId": "2006d3aa-b3c2-41cd-9bc1-245e88bddd55"
      },
      "execution_count": 11,
      "outputs": [
        {
          "output_type": "stream",
          "name": "stdout",
          "text": [
            "Gini Index cho 'Likes English': 0.47\n"
          ]
        }
      ]
    },
    {
      "cell_type": "markdown",
      "source": [
        "**Câu 4 C**"
      ],
      "metadata": {
        "id": "84_eLAt3MDoN"
      }
    },
    {
      "cell_type": "code",
      "source": [
        "import numpy as np\n",
        "\n",
        "# Nhập dữ liệu từ bảng\n",
        "data = np.array([\n",
        "    [23, 0, 0, 0],\n",
        "    [25, 1, 1, 0],\n",
        "    [27, 1, 0, 1],\n",
        "    [29, 0, 1, 1],\n",
        "    [29, 0, 0, 0]\n",
        "])\n",
        "\n",
        "# Chia dữ liệu thành hai nhóm dựa trên điều kiện 'Age <= 26'\n",
        "D1 = data[data[:, 0] <= 26][:, -1]  # Lấy cột 'Raise Salary' cho D1\n",
        "D2 = data[data[:, 0] > 26][:, -1]   # Lấy cột 'Raise Salary' cho D2\n",
        "\n",
        "# Hàm tính Gini Index\n",
        "def calculate_gini(group):\n",
        "    total = len(group)\n",
        "    positive_count = sum(group)\n",
        "    negative_count = total - positive_count\n",
        "    p_positive = positive_count / total\n",
        "    p_negative = negative_count / total\n",
        "    gini = 1 - (p_positive ** 2 + p_negative ** 2)\n",
        "    return gini\n",
        "# Tính Gini cho từng nhóm\n",
        "gini_D1 = calculate_gini(D1)\n",
        "gini_D2 = calculate_gini(D2)\n",
        "\n",
        "# Tính Gini trung bình có trọng số\n",
        "total_samples = len(D1) + len(D2)\n",
        "weighted_gini = (len(D1) / total_samples) * gini_D1 + (len(D2) / total_samples) * gini_D2\n",
        "\n",
        "print(f\"Gini của bộ dữ liệu': {weighted_gini:.2f}\")"
      ],
      "metadata": {
        "colab": {
          "base_uri": "https://localhost:8080/"
        },
        "id": "UL-xBHOCWr39",
        "outputId": "73e7eb8f-1655-46d3-8d84-ffbe934d6c45"
      },
      "execution_count": 14,
      "outputs": [
        {
          "output_type": "stream",
          "name": "stdout",
          "text": [
            "Gini của bộ dữ liệu': 0.27\n"
          ]
        }
      ]
    },
    {
      "cell_type": "markdown",
      "source": [
        "**Câu 5 B**"
      ],
      "metadata": {
        "id": "PDmwvd30MgSy"
      }
    },
    {
      "cell_type": "code",
      "source": [
        "import numpy as np\n",
        "\n",
        "# Nhập dữ liệu từ bảng\n",
        "data = np.array([\n",
        "    [23, 0, 0, 0],\n",
        "    [25, 1, 1, 0],\n",
        "    [27, 1, 0, 1],\n",
        "    [29, 0, 1, 1],\n",
        "    [29, 0, 0, 0]\n",
        "])\n",
        "\n",
        "# Chia dữ liệu thành hai nhóm dựa trên điều kiện 'Age <= 26'\n",
        "D1 = data[:, -1]  # Lấy cột 'Raise Salary' cho D1\n",
        "\n",
        "\n",
        "# Hàm tính Entropy Index\n",
        "def calculate_entropy(group):\n",
        "    total = len(group)\n",
        "    positive_count = sum(group)\n",
        "    negative_count = total - positive_count\n",
        "    p_positive = positive_count / total\n",
        "    p_negative = negative_count / total\n",
        "    return -p_positive * np.log2(p_positive) - p_negative * np.log2(p_negative)\n",
        "# Tính Gini D1\n",
        "gini_D1 = calculate_entropy(D1)\n",
        "print(f\"Entropy cho 'Raise Salary': {gini_D1:.2f}\")"
      ],
      "metadata": {
        "colab": {
          "base_uri": "https://localhost:8080/"
        },
        "id": "X2YQnh7KMjjC",
        "outputId": "11a5818e-72c5-43d8-d50e-099f0d5aa789"
      },
      "execution_count": 17,
      "outputs": [
        {
          "output_type": "stream",
          "name": "stdout",
          "text": [
            "Entropy cho 'Raise Salary': 0.97\n"
          ]
        }
      ]
    },
    {
      "cell_type": "markdown",
      "source": [
        "**Câu 6 D**"
      ],
      "metadata": {
        "id": "ZsvuclWlM_7K"
      }
    },
    {
      "cell_type": "code",
      "source": [
        "import numpy as np\n",
        "\n",
        "# Nhập dữ liệu từ bảng\n",
        "data = np.array([\n",
        "    [23, 0, 0, 0],\n",
        "    [25, 1, 1, 0],\n",
        "    [27, 1, 0, 1],\n",
        "    [29, 0, 1, 1],\n",
        "    [29, 0, 0, 0]\n",
        "])\n",
        "\n",
        "def calculate_entropy(group):\n",
        "    total = len(group)\n",
        "    if total == 0:\n",
        "        return 0\n",
        "    positive_count = sum(group)\n",
        "    negative_count = total - positive_count\n",
        "    p_positive = positive_count / total\n",
        "    p_negative = negative_count / total\n",
        "\n",
        "    if p_positive == 0 or p_negative == 0:\n",
        "        return 0\n",
        "\n",
        "    entropy = -p_positive * np.log2(p_positive) - p_negative * np.log2(p_negative)\n",
        "    return entropy\n",
        "\n",
        "def calculate_information_gain(data, attribute_index, target_index):\n",
        "    attribute_values = data[:, attribute_index]\n",
        "    target_values = data[:, target_index]\n",
        "\n",
        "    total_entropy = calculate_entropy(target_values)\n",
        "\n",
        "    unique_values = np.unique(attribute_values)\n",
        "    total_samples = len(data)\n",
        "\n",
        "    weighted_entropy = 0\n",
        "    for value in unique_values:\n",
        "        subset = target_values[attribute_values == value]\n",
        "        subset_size = len(subset)\n",
        "        subset_entropy = calculate_entropy(subset)\n",
        "        weighted_entropy += (subset_size / total_samples) * subset_entropy\n",
        "\n",
        "    information_gain = total_entropy - weighted_entropy\n",
        "    return information_gain\n",
        "\n",
        "# Tính Gain cho 'Likes English' (cột thứ 2, index 1)\n",
        "gain_likes_english = calculate_information_gain(data, 1, -1)\n",
        "\n",
        "print(f\"Information Gain cho 'Likes English': {gain_likes_english:.4f}\")"
      ],
      "metadata": {
        "colab": {
          "base_uri": "https://localhost:8080/"
        },
        "id": "vWrg0pkWZyx9",
        "outputId": "0c678f01-1420-495b-bb1e-1998de681020"
      },
      "execution_count": 29,
      "outputs": [
        {
          "output_type": "stream",
          "name": "stdout",
          "text": [
            "Information Gain cho 'Likes English': 0.0200\n"
          ]
        }
      ]
    },
    {
      "cell_type": "markdown",
      "source": [
        "**Câu 7 A**"
      ],
      "metadata": {
        "id": "D800EGm4NOHn"
      }
    },
    {
      "cell_type": "markdown",
      "source": [
        "**Câu 8 A**"
      ],
      "metadata": {
        "id": "mwWftpu0c8J7"
      }
    },
    {
      "cell_type": "markdown",
      "source": [
        "#2. Decision Tree for Regression"
      ],
      "metadata": {
        "id": "5uBz5QwVOeY4"
      }
    },
    {
      "cell_type": "markdown",
      "source": [
        "**Câu 9 B**"
      ],
      "metadata": {
        "id": "EAJRfGmWbeW_"
      }
    },
    {
      "cell_type": "code",
      "source": [
        "import numpy as np\n",
        "\n",
        "data = np.array([\n",
        "    [23, 0, 0, 200],\n",
        "    [25, 1, 1, 400],\n",
        "    [27, 1, 0, 300],\n",
        "    [29, 0, 1, 500],\n",
        "    [29, 0, 0, 400]\n",
        "])\n",
        "\n",
        "def calculate_sse(group):\n",
        "    # Chỉ xét cột giá trị thực tế Salary (cột cuối cùng)\n",
        "    values = group[:, -1]\n",
        "    mean = np.mean(values)\n",
        "    errors = values - mean\n",
        "    squared_errors = np.square(errors)\n",
        "    sse = np.sum(squared_errors)\n",
        "    return sse\n",
        "\n",
        "# Chia dữ liệu theo thuộc tính 'Likes AI'\n",
        "group_0 = data[data[:, 2] == 0]\n",
        "group_1 = data[data[:, 2] == 1]\n",
        "\n",
        "# Tính SSE cho từng nhóm\n",
        "sse_group_0 = calculate_sse(group_0)\n",
        "sse_group_1 = calculate_sse(group_1)\n",
        "\n",
        "# Tổng SSE\n",
        "total_sse = sse_group_0 + sse_group_1\n",
        "\n",
        "print(\"SSE(Likes AI) =\", total_sse)\n"
      ],
      "metadata": {
        "colab": {
          "base_uri": "https://localhost:8080/"
        },
        "id": "i7gkZsp_b04n",
        "outputId": "048245da-e798-4425-de25-51b7278b3b5a"
      },
      "execution_count": 37,
      "outputs": [
        {
          "output_type": "stream",
          "name": "stdout",
          "text": [
            "SSE(Likes AI) = 25000.0\n"
          ]
        }
      ]
    },
    {
      "cell_type": "markdown",
      "source": [
        "**Câu 10 C**"
      ],
      "metadata": {
        "id": "8C12k_Necxxt"
      }
    },
    {
      "cell_type": "code",
      "source": [
        "import numpy as np\n",
        "\n",
        "data = np.array([\n",
        "    [23, 0, 0, 200],\n",
        "    [25, 1, 1, 400],\n",
        "    [27, 1, 0, 300],\n",
        "    [29, 0, 1, 500],\n",
        "    [29, 0, 0, 400]\n",
        "])\n",
        "\n",
        "def calculate_sse(group):\n",
        "    # Chỉ xét cột giá trị thực tế Salary (cột cuối cùng)\n",
        "    values = group[:, -1]\n",
        "    mean = np.mean(values)\n",
        "    errors = values - mean\n",
        "    squared_errors = np.square(errors)\n",
        "    sse = np.sum(squared_errors)/len(group[:,0])\n",
        "    return sse\n",
        "\n",
        "# Chia dữ liệu theo điều kiện 'Age <= 24' và 'Age > 24'\n",
        "group_d1 = data[data[:, 0] <= 24]\n",
        "group_d2 = data[data[:, 0] > 24]\n",
        "\n",
        "# Tính SSE cho từng nhóm\n",
        "sse_d1 = calculate_sse(group_d1)\n",
        "sse_d2 = calculate_sse(group_d2)\n",
        "\n",
        "# Tổng SSE\n",
        "total_sse = sse_d1 + sse_d2\n",
        "\n",
        "print(\"SSE(Age <= 24) =\", total_sse)\n"
      ],
      "metadata": {
        "colab": {
          "base_uri": "https://localhost:8080/"
        },
        "id": "iE-6JXJUffJo",
        "outputId": "c95384fe-38c7-4231-adb1-a5b9ed7ebcb4"
      },
      "execution_count": 40,
      "outputs": [
        {
          "output_type": "stream",
          "name": "stdout",
          "text": [
            "SSE(Age <= 24) = 5000.0\n"
          ]
        }
      ]
    },
    {
      "cell_type": "markdown",
      "source": [
        "**Câu 11 A**\n"
      ],
      "metadata": {
        "id": "m5qtppEqh6gv"
      }
    }
  ]
}