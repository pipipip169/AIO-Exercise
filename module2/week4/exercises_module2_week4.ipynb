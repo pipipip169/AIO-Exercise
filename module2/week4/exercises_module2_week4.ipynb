{
 "cells": [
  {
   "cell_type": "markdown",
   "metadata": {},
   "source": [
    "**Câu 1** A\n"
   ]
  },
  {
   "cell_type": "code",
   "execution_count": 2,
   "metadata": {},
   "outputs": [
    {
     "name": "stdout",
     "output_type": "stream",
     "text": [
      "Mean :  1.8\n"
     ]
    }
   ],
   "source": [
    "import numpy as np\n",
    "\n",
    "def compute_mean(lst):\n",
    "  return np.sum(lst) / len(lst)\n",
    "\n",
    "lst = [2, 0, 2, 2, 7, 4, -2, 5, -1, -1]\n",
    "\n",
    "print(\"Mean : \", compute_mean(lst))"
   ]
  },
  {
   "cell_type": "markdown",
   "metadata": {},
   "source": [
    "**Câu 2** B"
   ]
  },
  {
   "cell_type": "code",
   "execution_count": 3,
   "metadata": {},
   "outputs": [
    {
     "name": "stdout",
     "output_type": "stream",
     "text": [
      "[ 1  4  4  5  9 13]\n",
      "Median:  4.5\n"
     ]
    }
   ],
   "source": [
    "def compute_median(lst):\n",
    "  size = len(lst)\n",
    "  lst = np.sort(lst)\n",
    "  print(lst)\n",
    "  if (size % 2 == 0):\n",
    "    return (1/2*(lst[int(size/2)-1] \\\n",
    "                 + (lst[int(size/2) + 1 - 1])))\n",
    "  else:\n",
    "    return lst[int((size+1)/2)-1]\n",
    "\n",
    "lst = [1, 5, 4, 4, 9, 13]\n",
    "print(\"Median: \", compute_median(lst))"
   ]
  },
  {
   "cell_type": "markdown",
   "metadata": {},
   "source": [
    "**Câu 3** C"
   ]
  },
  {
   "cell_type": "code",
   "execution_count": 4,
   "metadata": {},
   "outputs": [
    {
     "name": "stdout",
     "output_type": "stream",
     "text": [
      "8.33\n"
     ]
    }
   ],
   "source": [
    "def compute_std(lst):\n",
    "  mean = compute_mean(lst)\n",
    "  variance = 0\n",
    "  for i in lst:\n",
    "    variance = variance + (i - mean)**2\n",
    "  variance = variance / len(lst)\n",
    "  return np.sqrt(variance)\n",
    "\n",
    "lst = [ 171, 176, 155, 167, 169, 182]\n",
    "print(np.round(compute_std(lst),2))"
   ]
  },
  {
   "cell_type": "markdown",
   "metadata": {},
   "source": [
    "**Câu 4** D"
   ]
  },
  {
   "cell_type": "code",
   "execution_count": 5,
   "metadata": {},
   "outputs": [
    {
     "name": "stdout",
     "output_type": "stream",
     "text": [
      "Correlation:  0.42\n"
     ]
    }
   ],
   "source": [
    "def compute_correlation_cofficient(array1, array2):\n",
    "  N = len(array1)\n",
    "  numerator = N * array1.dot(array2) - np.sum(array1)*np.sum(array2)\n",
    "  denominator = np.sqrt(N*np.sum(np.square(array1))-np.sum(array1)**2) \\\n",
    "    * np.sqrt(N*np.sum(np.square(array2))-np.sum(array2)**2)\n",
    "\n",
    "  return np.round(numerator / denominator,2)\n",
    "\n",
    "array1 = np.asarray([-2, -5, -11, 6, 4, 15, 9])\n",
    "array2 = np.asarray([4, 25, 121, 36, 16, 225, 81])\n",
    "print(\"Correlation: \", compute_correlation_cofficient(array1,array2))"
   ]
  },
  {
   "cell_type": "markdown",
   "metadata": {},
   "source": [
    "**Câu 5** B"
   ]
  },
  {
   "cell_type": "code",
   "execution_count": 8,
   "metadata": {},
   "outputs": [
    {
     "name": "stdout",
     "output_type": "stream",
     "text": [
      " Correlation between TV and Sales : 0.05\n"
     ]
    }
   ],
   "source": [
    "import pandas as pd\n",
    "import numpy as np\n",
    "\n",
    "data = pd. read_csv (\"D:/AIO/AIO-Exercise/module2/week4/advertising.csv\")\n",
    "\n",
    "def correlation (x, y):\n",
    "  x_mean = np.mean(x)\n",
    "  y_mean = np.mean(y)\n",
    "\n",
    "  numerator = np.sum((x - x_mean) * (y - y_mean))\n",
    "  denominator = np.sqrt(np.sum((x - x_mean)**2) * np.sum((y - y_mean)**2))\n",
    "\n",
    "  if denominator == 0:\n",
    "    return 0  # Handle cases where the denominator is zero\n",
    "\n",
    "  return numerator / denominator\n",
    "\n",
    "x = data ['TV']\n",
    "y = data ['Radio']\n",
    "corr_xy = correlation (x, y)\n",
    "print (f\" Correlation between TV and Sales : { round ( corr_xy , 2)}\")"
   ]
  },
  {
   "cell_type": "markdown",
   "metadata": {},
   "source": [
    "**Câu 6** D"
   ]
  },
  {
   "cell_type": "code",
   "execution_count": 10,
   "metadata": {},
   "outputs": [
    {
     "name": "stdout",
     "output_type": "stream",
     "text": [
      " Correlation between TV and TV: 1.0\n",
      " Correlation between TV and Radio: 0.05\n",
      " Correlation between TV and Newspaper: 0.06\n",
      " Correlation between Radio and TV: 0.05\n",
      " Correlation between Radio and Radio: 1.0\n",
      " Correlation between Radio and Newspaper: 0.35\n",
      " Correlation between Newspaper and TV: 0.06\n",
      " Correlation between Newspaper and Radio: 0.35\n",
      " Correlation between Newspaper and Newspaper: 1.0\n"
     ]
    }
   ],
   "source": [
    "features = ['TV', 'Radio', 'Newspaper']\n",
    "for feature_1 in features :\n",
    "    for feature_2 in features :\n",
    "        correlation_value = correlation ( data [ feature_1 ], data [ feature_2 ])\n",
    "        print (f\" Correlation between { feature_1 } and { feature_2 }: { round (\n",
    "correlation_value , 2)}\")"
   ]
  },
  {
   "cell_type": "markdown",
   "metadata": {},
   "source": [
    "**Câu 7** C"
   ]
  },
  {
   "cell_type": "code",
   "execution_count": 14,
   "metadata": {},
   "outputs": [
    {
     "name": "stdout",
     "output_type": "stream",
     "text": [
      "[[1.         0.35410375]\n",
      " [0.35410375 1.        ]]\n"
     ]
    }
   ],
   "source": [
    "x = data ['Radio']\n",
    "y = data ['Newspaper']\n",
    "\n",
    "result = np.corrcoef(x, y)\n",
    "print ( result )"
   ]
  },
  {
   "cell_type": "markdown",
   "metadata": {},
   "source": [
    "**Câu 8** D"
   ]
  },
  {
   "cell_type": "code",
   "execution_count": 15,
   "metadata": {},
   "outputs": [
    {
     "data": {
      "text/html": [
       "<div>\n",
       "<style scoped>\n",
       "    .dataframe tbody tr th:only-of-type {\n",
       "        vertical-align: middle;\n",
       "    }\n",
       "\n",
       "    .dataframe tbody tr th {\n",
       "        vertical-align: top;\n",
       "    }\n",
       "\n",
       "    .dataframe thead th {\n",
       "        text-align: right;\n",
       "    }\n",
       "</style>\n",
       "<table border=\"1\" class=\"dataframe\">\n",
       "  <thead>\n",
       "    <tr style=\"text-align: right;\">\n",
       "      <th></th>\n",
       "      <th>TV</th>\n",
       "      <th>Radio</th>\n",
       "      <th>Newspaper</th>\n",
       "      <th>Sales</th>\n",
       "    </tr>\n",
       "  </thead>\n",
       "  <tbody>\n",
       "    <tr>\n",
       "      <th>TV</th>\n",
       "      <td>1.000000</td>\n",
       "      <td>0.054809</td>\n",
       "      <td>0.056648</td>\n",
       "      <td>0.901208</td>\n",
       "    </tr>\n",
       "    <tr>\n",
       "      <th>Radio</th>\n",
       "      <td>0.054809</td>\n",
       "      <td>1.000000</td>\n",
       "      <td>0.354104</td>\n",
       "      <td>0.349631</td>\n",
       "    </tr>\n",
       "    <tr>\n",
       "      <th>Newspaper</th>\n",
       "      <td>0.056648</td>\n",
       "      <td>0.354104</td>\n",
       "      <td>1.000000</td>\n",
       "      <td>0.157960</td>\n",
       "    </tr>\n",
       "    <tr>\n",
       "      <th>Sales</th>\n",
       "      <td>0.901208</td>\n",
       "      <td>0.349631</td>\n",
       "      <td>0.157960</td>\n",
       "      <td>1.000000</td>\n",
       "    </tr>\n",
       "  </tbody>\n",
       "</table>\n",
       "</div>"
      ],
      "text/plain": [
       "                 TV     Radio  Newspaper     Sales\n",
       "TV         1.000000  0.054809   0.056648  0.901208\n",
       "Radio      0.054809  1.000000   0.354104  0.349631\n",
       "Newspaper  0.056648  0.354104   1.000000  0.157960\n",
       "Sales      0.901208  0.349631   0.157960  1.000000"
      ]
     },
     "execution_count": 15,
     "metadata": {},
     "output_type": "execute_result"
    }
   ],
   "source": [
    "data_corr_coef = data.corr()\n",
    "data_corr_coef"
   ]
  },
  {
   "cell_type": "markdown",
   "metadata": {},
   "source": [
    "**Câu 9** D"
   ]
  },
  {
   "cell_type": "code",
   "execution_count": 21,
   "metadata": {},
   "outputs": [
    {
     "data": {
      "image/png": "[encoded data removed]",
      "text/plain": [
       "<Figure size 1000x800 with 2 Axes>"
      ]
     },
     "metadata": {},
     "output_type": "display_data"
    }
   ],
   "source": [
    "import matplotlib . pyplot as plt\n",
    "import seaborn as sns\n",
    "\n",
    "plt.figure (figsize =(10 ,8))\n",
    "sns.heatmap(data_corr_coef, annot=False, fmt=\".2f\", linewidth=.5)\n",
    "plt.show ()"
   ]
  },
  {
   "cell_type": "markdown",
   "metadata": {},
   "source": [
    "**Câu 10** B"
   ]
  },
  {
   "cell_type": "code",
   "execution_count": 17,
   "metadata": {},
   "outputs": [
    {
     "data": {
      "text/plain": [
       "0.31126580760710637"
      ]
     },
     "execution_count": 17,
     "metadata": {},
     "output_type": "execute_result"
    }
   ],
   "source": [
    "import pandas as pd\n",
    "import numpy as np\n",
    "from sklearn.metrics.pairwise import cosine_similarity\n",
    "from sklearn.feature_extraction.text import TfidfVectorizer\n",
    "\n",
    "vi_data_df = pd. read_csv (\"D:/AIO/AIO-Exercise/module2/week4/vi_text_retrieval.csv\")\n",
    "context = vi_data_df ['text']\n",
    "context = [doc.lower() for doc in context ]\n",
    "\n",
    "tfidf_vectorizer = TfidfVectorizer ()\n",
    "context_embedded = tfidf_vectorizer.fit_transform(context)\n",
    "context_embedded.toarray()[7][0]"
   ]
  },
  {
   "cell_type": "markdown",
   "metadata": {},
   "source": [
    "**Câu 11** D"
   ]
  },
  {
   "cell_type": "code",
   "execution_count": 18,
   "metadata": {},
   "outputs": [
    {
     "data": {
      "text/plain": [
       "0.6279910475266973"
      ]
     },
     "execution_count": 18,
     "metadata": {},
     "output_type": "execute_result"
    }
   ],
   "source": [
    "def tfidf_search (question , tfidf_vectorizer , top_d =5):\n",
    "    # lowercasing before encoding\n",
    "    query_embedded = tfidf_vectorizer.transform([question.lower()])\n",
    "    cosine_scores = cosine_similarity(context_embedded, query_embedded).reshape((-1,))\n",
    "\n",
    "    # Get top k cosine score and index its\n",
    "    results = []\n",
    "    for idx in cosine_scores . argsort ()[- top_d :][:: -1]:\n",
    "        doc_score = {'id': idx, 'cosine_score': cosine_scores [idx]}\n",
    "        results . append ( doc_score )\n",
    "    return results\n",
    "\n",
    "question = vi_data_df.iloc [0]['question']\n",
    "results = tfidf_search (question, tfidf_vectorizer, top_d =5)\n",
    "results[0]['cosine_score']"
   ]
  },
  {
   "cell_type": "markdown",
   "metadata": {},
   "source": [
    "**Câu 12** B"
   ]
  },
  {
   "cell_type": "code",
   "execution_count": 20,
   "metadata": {},
   "outputs": [
    {
     "data": {
      "text/plain": [
       "0.20734246471973253"
      ]
     },
     "execution_count": 20,
     "metadata": {},
     "output_type": "execute_result"
    }
   ],
   "source": [
    "def corr_search(question, tfidf_vectorizer, top_d=5):\n",
    "    query_embedded = tfidf_vectorizer.transform([question.lower()])\n",
    "    corr_scores = np.corrcoef(\n",
    "        query_embedded.toarray()[0],\n",
    "        context_embedded.toarray()\n",
    "    )\n",
    "    corr_scores = corr_scores[0][1:]\n",
    "    results = []\n",
    "    for idx in corr_scores.argsort()[-top_d:][::-1]:\n",
    "        doc = {\n",
    "            'id': idx,\n",
    "            'corr_score':corr_scores[idx]\n",
    "        }\n",
    "        results.append(doc)\n",
    "    return results\n",
    "\n",
    "question = vi_data_df.iloc[0]['question']\n",
    "results = corr_search(question , tfidf_vectorizer , top_d =5)\n",
    "results [1]['corr_score']"
   ]
  }
 ],
 "metadata": {
  "kernelspec": {
   "display_name": "Python 3",
   "language": "python",
   "name": "python3"
  },
  "language_info": {
   "codemirror_mode": {
    "name": "ipython",
    "version": 3
   },
   "file_extension": ".py",
   "mimetype": "text/x-python",
   "name": "python",
   "nbconvert_exporter": "python",
   "pygments_lexer": "ipython3",
   "version": "3.12.4"
  }
 },
 "nbformat": 4,
 "nbformat_minor": 2
}
