{
 "cells": [
  {
   "cell_type": "code",
   "execution_count": 1,
   "metadata": {},
   "outputs": [],
   "source": [
    "import numpy as np\n",
    "class CustomLinearRegression:\n",
    "    def __init__(self, X_data, y_target, learning_rate=0.01, num_epochs=10000):\n",
    "        self.num_samples = X_data.shape[0]\n",
    "        self.X_data = np.c_[np.ones((self.num_samples, 1)), X_data]\n",
    "        self.y_target = y_target\n",
    "        self.learning_rate = learning_rate\n",
    "        self.num_epochs = num_epochs\n",
    "\n",
    "        # Initial weights\n",
    "        self.theta = np.random.randn(self.X_data.shape[1], 1)\n",
    "        self.losses = []\n",
    "\n",
    "    def compute_loss(self, y_pred, y_target):\n",
    "        loss = (y_pred - y_target) ** 2\n",
    "        loss = np.mean(loss)\n",
    "        return loss\n",
    "\n",
    "    def predict(self, X_data):\n",
    "        if X_data.shape[1] == self.num_features:\n",
    "            y_pred = X_data.dot(self.theta)\n",
    "        else:\n",
    "            # Add bias column if it’s missing\n",
    "            X_data = np.c_[np.ones((X_data.shape[0], 1)), X_data]\n",
    "            y_pred = X_data.dot(self.theta)\n",
    "        return y_pred\n",
    "    def fit(self):\n",
    "        for epoch in range(self.num_epochs):\n",
    "            # Predict the target values\n",
    "            y_pred = self.predict(self.X_data)\n",
    "            print(y_pred)\n",
    "            \n",
    "            # Calculate the loss\n",
    "            loss = self.compute_loss(y_pred, self.y_target)\n",
    "            self.losses.append(loss)\n",
    "            \n",
    "            # Calculate gradients\n",
    "            gradients = (1 / self.num_samples) * np.dot(self.X_data.T, (y_pred - self.y_target))\n",
    "            \n",
    "            # Update weights\n",
    "            self.theta -= self.learning_rate * gradients\n",
    "\n",
    "            if (epoch % 50) == 0:\n",
    "                print(f'Epoch: {epoch} - Loss: {loss}')\n",
    "\n",
    "        return {\n",
    "            'loss': sum(self.losses) / len(self.losses),\n",
    "            'weight': self.theta\n",
    "        }\n"
   ]
  },
  {
   "cell_type": "markdown",
   "metadata": {},
   "source": [
    "**Câu 1: A**"
   ]
  },
  {
   "cell_type": "markdown",
   "metadata": {},
   "source": [
    "**Câu 2: A**"
   ]
  },
  {
   "cell_type": "code",
   "execution_count": 2,
   "metadata": {},
   "outputs": [],
   "source": [
    "def r2score(y_pred, y):\n",
    "    rss = np.sum((y_pred - y) ** 2)  # Residual Sum of Squares\n",
    "    tss = np.sum((y - y.mean()) ** 2)  # Total Sum of Squares\n",
    "    r2 = 1 - (rss / tss)  # R-squared calculation\n",
    "    return r2\n"
   ]
  },
  {
   "cell_type": "code",
   "execution_count": 3,
   "metadata": {},
   "outputs": [
    {
     "data": {
      "text/plain": [
       "1.0"
      ]
     },
     "execution_count": 3,
     "metadata": {},
     "output_type": "execute_result"
    }
   ],
   "source": [
    "# Case 1\n",
    "y_pred = np.array([1, 2, 3, 4, 5])\n",
    "y = np.array([1, 2, 3, 4, 5])\n",
    "r2score(y_pred, y)\n",
    "\n"
   ]
  },
  {
   "cell_type": "code",
   "execution_count": 4,
   "metadata": {},
   "outputs": [
    {
     "data": {
      "text/plain": [
       "-2.235294117647059"
      ]
     },
     "execution_count": 4,
     "metadata": {},
     "output_type": "execute_result"
    }
   ],
   "source": [
    "# Case 2\n",
    "y_pred = np.array([1, 2, 3, 4, 5])\n",
    "y = np.array([3, 5, 5, 2, 4])\n",
    "r2score(y_pred, y)"
   ]
  },
  {
   "cell_type": "markdown",
   "metadata": {},
   "source": [
    "**Câu 3: D**"
   ]
  },
  {
   "cell_type": "markdown",
   "metadata": {},
   "source": [
    "**Câu 4: B**"
   ]
  },
  {
   "cell_type": "markdown",
   "metadata": {},
   "source": [
    "**Câu 5: A**"
   ]
  },
  {
   "cell_type": "markdown",
   "metadata": {},
   "source": [
    "**Câu 6: B**"
   ]
  },
  {
   "cell_type": "code",
   "execution_count": 5,
   "metadata": {},
   "outputs": [
    {
     "name": "stdout",
     "output_type": "stream",
     "text": [
      "None\n"
     ]
    }
   ],
   "source": [
    "import numpy as np\n",
    "\n",
    "def create_polynomial_features(X, degree=2):\n",
    "    \"\"\"Creates the polynomial features\n",
    "    Args:\n",
    "    X: A array tensor for the data.\n",
    "    degree: An integer for the degree of the generated polynomial function.\n",
    "    \"\"\"\n",
    "    X_new = X\n",
    "    for d in range(2, degree + 1):\n",
    "         X_new = np.c_[X_new, np.power(X, d)]\n",
    "\n",
    "X = np.array([[1], [2], [3]])\n",
    "X_poly = create_polynomial_features(X, degree=3)\n",
    "print(X_poly)"
   ]
  },
  {
   "cell_type": "markdown",
   "metadata": {},
   "source": [
    "**Câu 7: A**"
   ]
  },
  {
   "cell_type": "code",
   "execution_count": 6,
   "metadata": {},
   "outputs": [],
   "source": [
    "def create_polynomial_features(X, degree=2):\n",
    "    \"\"\"Creates the polynomial features\n",
    "    Args:\n",
    "    X: A array for the data.\n",
    "    degree: An integer for the degree of the generated polynomial function.\n",
    "    \"\"\"\n",
    "    X_mem = []\n",
    "    for X_sub in X.T:\n",
    "        X_sub = X_sub.T\n",
    "        X_new = X_sub\n",
    "        for d in range(2, degree + 1):\n",
    "            X_new = np.c_[X_new, np.power(X_sub, d)]\n",
    "        X_mem.append(X_new.T)\n",
    "    return np.c_[X_mem].T\n"
   ]
  },
  {
   "cell_type": "markdown",
   "metadata": {},
   "source": [
    "**Câu 8: B**"
   ]
  },
  {
   "cell_type": "code",
   "execution_count": 7,
   "metadata": {},
   "outputs": [],
   "source": [
    "import pandas as pd\n",
    "\n",
    "df = pd.read_csv('SalesPrediction.csv')"
   ]
  },
  {
   "cell_type": "code",
   "execution_count": 8,
   "metadata": {},
   "outputs": [],
   "source": [
    "df = pd.get_dummies(df)"
   ]
  },
  {
   "cell_type": "markdown",
   "metadata": {},
   "source": [
    "**Câu 9: A**"
   ]
  },
  {
   "cell_type": "code",
   "execution_count": 9,
   "metadata": {},
   "outputs": [
    {
     "data": {
      "text/plain": [
       "Index(['TV', 'Radio', 'Social Media', 'Sales', 'Influencer_Macro',\n",
       "       'Influencer_Mega', 'Influencer_Micro', 'Influencer_Nano'],\n",
       "      dtype='object')"
      ]
     },
     "execution_count": 9,
     "metadata": {},
     "output_type": "execute_result"
    }
   ],
   "source": [
    "df.columns"
   ]
  },
  {
   "cell_type": "code",
   "execution_count": 10,
   "metadata": {},
   "outputs": [],
   "source": [
    "# Handle Null values\n",
    "df = df.fillna(df.mean())\n",
    "# Get features\n",
    "X = df[['TV', 'Radio', 'Social Media', 'Influencer_Macro',\n",
    "       'Influencer_Mega', 'Influencer_Micro', 'Influencer_Nano']]\n",
    "y = df[['Sales']]\n",
    "# Train Test Split"
   ]
  },
  {
   "cell_type": "markdown",
   "metadata": {},
   "source": []
  },
  {
   "cell_type": "code",
   "execution_count": 11,
   "metadata": {},
   "outputs": [],
   "source": [
    "from sklearn.model_selection import train_test_split\n",
    "X_train , X_test , y_train , y_test = train_test_split (X,y,test_size =0.33 ,random_state =0)"
   ]
  },
  {
   "cell_type": "code",
   "execution_count": 12,
   "metadata": {},
   "outputs": [
    {
     "data": {
      "text/plain": [
       "53.850231941683234"
      ]
     },
     "execution_count": 12,
     "metadata": {},
     "output_type": "execute_result"
    }
   ],
   "source": [
    "from sklearn.preprocessing import StandardScaler\n",
    "scaler = StandardScaler()\n",
    "X_train_processed = scaler.fit_transform(X_train)\n",
    "X_test_processed = scaler.fit_transform(X_test)\n",
    "scaler.mean_[0]\n"
   ]
  },
  {
   "cell_type": "markdown",
   "metadata": {},
   "source": [
    "**Câu 10: A**"
   ]
  },
  {
   "cell_type": "code",
   "execution_count": 13,
   "metadata": {},
   "outputs": [],
   "source": [
    "from sklearn . preprocessing import PolynomialFeatures\n",
    "poly_features = PolynomialFeatures ( degree =2)\n",
    "X_train_poly = poly_features . fit_transform ( X_train_processed )\n",
    "X_test_poly = poly_features . transform ( X_test_processed )"
   ]
  },
  {
   "cell_type": "code",
   "execution_count": 14,
   "metadata": {},
   "outputs": [],
   "source": [
    "from sklearn.linear_model import LinearRegression\n",
    "from sklearn.metrics import r2_score\n",
    "\n",
    "# Create a Linear Regression model\n",
    "poly_model = LinearRegression()\n",
    "\n",
    "# Train (fit) the model on the polynomial features and target values\n",
    "poly_model.fit(X_train_poly, y_train)\n",
    "\n",
    "# Predict using the trained model on the test set polynomial features\n",
    "preds = poly_model.predict(X_test_poly)\n",
    "\n",
    "# Calculate the R^2 score (coefficient of determination) between the actual and predicted values\n",
    "r2 = r2_score(y_test, preds)\n"
   ]
  }
 ],
 "metadata": {
  "kernelspec": {
   "display_name": "Python 3",
   "language": "python",
   "name": "python3"
  },
  "language_info": {
   "codemirror_mode": {
    "name": "ipython",
    "version": 3
   },
   "file_extension": ".py",
   "mimetype": "text/x-python",
   "name": "python",
   "nbconvert_exporter": "python",
   "pygments_lexer": "ipython3",
   "version": "3.12.4"
  }
 },
 "nbformat": 4,
 "nbformat_minor": 2
}
