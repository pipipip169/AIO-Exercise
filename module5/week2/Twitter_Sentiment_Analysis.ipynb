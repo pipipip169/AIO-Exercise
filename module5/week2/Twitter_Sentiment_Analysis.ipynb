{
 "cells": [
  {
   "cell_type": "markdown",
   "metadata": {
    "id": "9govEkfdTJVA"
   },
   "source": [
    "## **1. Import libraries**"
   ]
  },
  {
   "cell_type": "code",
   "execution_count": 1,
   "metadata": {
    "id": "IAvQLqFPTHr1"
   },
   "outputs": [
    {
     "name": "stderr",
     "output_type": "stream",
     "text": [
      "[nltk_data] Downloading package stopwords to C:\\Users\\MSI\n",
      "[nltk_data]     GS66\\AppData\\Roaming\\nltk_data...\n",
      "[nltk_data]   Package stopwords is already up-to-date!\n"
     ]
    }
   ],
   "source": [
    "import numpy as np\n",
    "import pandas as pd\n",
    "import matplotlib.pyplot as plt\n",
    "import re\n",
    "import nltk\n",
    "nltk.download('stopwords')\n",
    "\n",
    "from sklearn.model_selection import train_test_split\n",
    "from sklearn.feature_extraction.text import TfidfVectorizer\n",
    "from nltk.corpus import stopwords\n",
    "from nltk.stem import SnowballStemmer"
   ]
  },
  {
   "cell_type": "markdown",
   "metadata": {
    "id": "JuyqHDI8TVf0"
   },
   "source": [
    "## **2. Read dataset**"
   ]
  },
  {
   "cell_type": "code",
   "execution_count": 2,
   "metadata": {
    "id": "i0uWI9h4TXuN"
   },
   "outputs": [
    {
     "data": {
      "text/html": [
       "<div>\n",
       "<style scoped>\n",
       "    .dataframe tbody tr th:only-of-type {\n",
       "        vertical-align: middle;\n",
       "    }\n",
       "\n",
       "    .dataframe tbody tr th {\n",
       "        vertical-align: top;\n",
       "    }\n",
       "\n",
       "    .dataframe thead th {\n",
       "        text-align: right;\n",
       "    }\n",
       "</style>\n",
       "<table border=\"1\" class=\"dataframe\">\n",
       "  <thead>\n",
       "    <tr style=\"text-align: right;\">\n",
       "      <th></th>\n",
       "      <th>clean_text</th>\n",
       "      <th>category</th>\n",
       "    </tr>\n",
       "  </thead>\n",
       "  <tbody>\n",
       "    <tr>\n",
       "      <th>0</th>\n",
       "      <td>when modi promised “minimum government maximum...</td>\n",
       "      <td>-1.0</td>\n",
       "    </tr>\n",
       "    <tr>\n",
       "      <th>1</th>\n",
       "      <td>talk all the nonsense and continue all the dra...</td>\n",
       "      <td>0.0</td>\n",
       "    </tr>\n",
       "    <tr>\n",
       "      <th>2</th>\n",
       "      <td>what did just say vote for modi  welcome bjp t...</td>\n",
       "      <td>1.0</td>\n",
       "    </tr>\n",
       "    <tr>\n",
       "      <th>3</th>\n",
       "      <td>asking his supporters prefix chowkidar their n...</td>\n",
       "      <td>1.0</td>\n",
       "    </tr>\n",
       "    <tr>\n",
       "      <th>4</th>\n",
       "      <td>answer who among these the most powerful world...</td>\n",
       "      <td>1.0</td>\n",
       "    </tr>\n",
       "    <tr>\n",
       "      <th>...</th>\n",
       "      <td>...</td>\n",
       "      <td>...</td>\n",
       "    </tr>\n",
       "    <tr>\n",
       "      <th>162975</th>\n",
       "      <td>why these 456 crores paid neerav modi not reco...</td>\n",
       "      <td>-1.0</td>\n",
       "    </tr>\n",
       "    <tr>\n",
       "      <th>162976</th>\n",
       "      <td>dear rss terrorist payal gawar what about modi...</td>\n",
       "      <td>-1.0</td>\n",
       "    </tr>\n",
       "    <tr>\n",
       "      <th>162977</th>\n",
       "      <td>did you cover her interaction forum where she ...</td>\n",
       "      <td>0.0</td>\n",
       "    </tr>\n",
       "    <tr>\n",
       "      <th>162978</th>\n",
       "      <td>there big project came into india modi dream p...</td>\n",
       "      <td>0.0</td>\n",
       "    </tr>\n",
       "    <tr>\n",
       "      <th>162979</th>\n",
       "      <td>have you ever listen about like gurukul where ...</td>\n",
       "      <td>1.0</td>\n",
       "    </tr>\n",
       "  </tbody>\n",
       "</table>\n",
       "<p>162980 rows × 2 columns</p>\n",
       "</div>"
      ],
      "text/plain": [
       "                                               clean_text  category\n",
       "0       when modi promised “minimum government maximum...      -1.0\n",
       "1       talk all the nonsense and continue all the dra...       0.0\n",
       "2       what did just say vote for modi  welcome bjp t...       1.0\n",
       "3       asking his supporters prefix chowkidar their n...       1.0\n",
       "4       answer who among these the most powerful world...       1.0\n",
       "...                                                   ...       ...\n",
       "162975  why these 456 crores paid neerav modi not reco...      -1.0\n",
       "162976  dear rss terrorist payal gawar what about modi...      -1.0\n",
       "162977  did you cover her interaction forum where she ...       0.0\n",
       "162978  there big project came into india modi dream p...       0.0\n",
       "162979  have you ever listen about like gurukul where ...       1.0\n",
       "\n",
       "[162980 rows x 2 columns]"
      ]
     },
     "execution_count": 2,
     "metadata": {},
     "output_type": "execute_result"
    }
   ],
   "source": [
    "dataset_path = 'Twitter_Data.csv'\n",
    "df = pd.read_csv(\n",
    "    dataset_path\n",
    ")\n",
    "df"
   ]
  },
  {
   "cell_type": "code",
   "execution_count": 3,
   "metadata": {
    "id": "6UHefku4Ujgu"
   },
   "outputs": [
    {
     "name": "stdout",
     "output_type": "stream",
     "text": [
      "<class 'pandas.core.frame.DataFrame'>\n",
      "RangeIndex: 162980 entries, 0 to 162979\n",
      "Data columns (total 2 columns):\n",
      " #   Column      Non-Null Count   Dtype  \n",
      "---  ------      --------------   -----  \n",
      " 0   clean_text  162976 non-null  object \n",
      " 1   category    162973 non-null  float64\n",
      "dtypes: float64(1), object(1)\n",
      "memory usage: 2.5+ MB\n"
     ]
    }
   ],
   "source": [
    "df.info()"
   ]
  },
  {
   "cell_type": "code",
   "execution_count": 4,
   "metadata": {
    "id": "1DVd0gIgUjx2"
   },
   "outputs": [
    {
     "data": {
      "text/html": [
       "<div>\n",
       "<style scoped>\n",
       "    .dataframe tbody tr th:only-of-type {\n",
       "        vertical-align: middle;\n",
       "    }\n",
       "\n",
       "    .dataframe tbody tr th {\n",
       "        vertical-align: top;\n",
       "    }\n",
       "\n",
       "    .dataframe thead th {\n",
       "        text-align: right;\n",
       "    }\n",
       "</style>\n",
       "<table border=\"1\" class=\"dataframe\">\n",
       "  <thead>\n",
       "    <tr style=\"text-align: right;\">\n",
       "      <th></th>\n",
       "      <th>category</th>\n",
       "    </tr>\n",
       "  </thead>\n",
       "  <tbody>\n",
       "    <tr>\n",
       "      <th>count</th>\n",
       "      <td>162973.000000</td>\n",
       "    </tr>\n",
       "    <tr>\n",
       "      <th>mean</th>\n",
       "      <td>0.225436</td>\n",
       "    </tr>\n",
       "    <tr>\n",
       "      <th>std</th>\n",
       "      <td>0.781279</td>\n",
       "    </tr>\n",
       "    <tr>\n",
       "      <th>min</th>\n",
       "      <td>-1.000000</td>\n",
       "    </tr>\n",
       "    <tr>\n",
       "      <th>25%</th>\n",
       "      <td>0.000000</td>\n",
       "    </tr>\n",
       "    <tr>\n",
       "      <th>50%</th>\n",
       "      <td>0.000000</td>\n",
       "    </tr>\n",
       "    <tr>\n",
       "      <th>75%</th>\n",
       "      <td>1.000000</td>\n",
       "    </tr>\n",
       "    <tr>\n",
       "      <th>max</th>\n",
       "      <td>1.000000</td>\n",
       "    </tr>\n",
       "  </tbody>\n",
       "</table>\n",
       "</div>"
      ],
      "text/plain": [
       "            category\n",
       "count  162973.000000\n",
       "mean        0.225436\n",
       "std         0.781279\n",
       "min        -1.000000\n",
       "25%         0.000000\n",
       "50%         0.000000\n",
       "75%         1.000000\n",
       "max         1.000000"
      ]
     },
     "execution_count": 4,
     "metadata": {},
     "output_type": "execute_result"
    }
   ],
   "source": [
    "df.describe()"
   ]
  },
  {
   "cell_type": "markdown",
   "metadata": {
    "id": "8ej3aM_XI-Qm"
   },
   "source": [
    "## **3. Drop missing value**"
   ]
  },
  {
   "cell_type": "code",
   "execution_count": 5,
   "metadata": {
    "id": "-fWdmBs-JDkg"
   },
   "outputs": [
    {
     "data": {
      "text/html": [
       "<div>\n",
       "<style scoped>\n",
       "    .dataframe tbody tr th:only-of-type {\n",
       "        vertical-align: middle;\n",
       "    }\n",
       "\n",
       "    .dataframe tbody tr th {\n",
       "        vertical-align: top;\n",
       "    }\n",
       "\n",
       "    .dataframe thead th {\n",
       "        text-align: right;\n",
       "    }\n",
       "</style>\n",
       "<table border=\"1\" class=\"dataframe\">\n",
       "  <thead>\n",
       "    <tr style=\"text-align: right;\">\n",
       "      <th></th>\n",
       "      <th>clean_text</th>\n",
       "      <th>category</th>\n",
       "    </tr>\n",
       "  </thead>\n",
       "  <tbody>\n",
       "    <tr>\n",
       "      <th>148</th>\n",
       "      <td>NaN</td>\n",
       "      <td>0.0</td>\n",
       "    </tr>\n",
       "    <tr>\n",
       "      <th>130448</th>\n",
       "      <td>the foundation stone northeast gas grid inaugu...</td>\n",
       "      <td>NaN</td>\n",
       "    </tr>\n",
       "    <tr>\n",
       "      <th>155642</th>\n",
       "      <td>dear terrorists you can run but you cant hide ...</td>\n",
       "      <td>NaN</td>\n",
       "    </tr>\n",
       "    <tr>\n",
       "      <th>155698</th>\n",
       "      <td>offense the best defence with mission shakti m...</td>\n",
       "      <td>NaN</td>\n",
       "    </tr>\n",
       "    <tr>\n",
       "      <th>155770</th>\n",
       "      <td>have always heard politicians backing out thei...</td>\n",
       "      <td>NaN</td>\n",
       "    </tr>\n",
       "    <tr>\n",
       "      <th>158693</th>\n",
       "      <td>modi government plans felicitate the faceless ...</td>\n",
       "      <td>NaN</td>\n",
       "    </tr>\n",
       "    <tr>\n",
       "      <th>158694</th>\n",
       "      <td>NaN</td>\n",
       "      <td>-1.0</td>\n",
       "    </tr>\n",
       "    <tr>\n",
       "      <th>159442</th>\n",
       "      <td>chidambaram gives praises modinomics</td>\n",
       "      <td>NaN</td>\n",
       "    </tr>\n",
       "    <tr>\n",
       "      <th>159443</th>\n",
       "      <td>NaN</td>\n",
       "      <td>0.0</td>\n",
       "    </tr>\n",
       "    <tr>\n",
       "      <th>160559</th>\n",
       "      <td>the reason why modi contested from seats 2014 ...</td>\n",
       "      <td>NaN</td>\n",
       "    </tr>\n",
       "    <tr>\n",
       "      <th>160560</th>\n",
       "      <td>NaN</td>\n",
       "      <td>1.0</td>\n",
       "    </tr>\n",
       "  </tbody>\n",
       "</table>\n",
       "</div>"
      ],
      "text/plain": [
       "                                               clean_text  category\n",
       "148                                                   NaN       0.0\n",
       "130448  the foundation stone northeast gas grid inaugu...       NaN\n",
       "155642  dear terrorists you can run but you cant hide ...       NaN\n",
       "155698  offense the best defence with mission shakti m...       NaN\n",
       "155770  have always heard politicians backing out thei...       NaN\n",
       "158693  modi government plans felicitate the faceless ...       NaN\n",
       "158694                                                NaN      -1.0\n",
       "159442               chidambaram gives praises modinomics       NaN\n",
       "159443                                                NaN       0.0\n",
       "160559  the reason why modi contested from seats 2014 ...       NaN\n",
       "160560                                                NaN       1.0"
      ]
     },
     "execution_count": 5,
     "metadata": {},
     "output_type": "execute_result"
    }
   ],
   "source": [
    "null_rows = df.isnull().any(axis=1)\n",
    "df[null_rows]"
   ]
  },
  {
   "cell_type": "code",
   "execution_count": 6,
   "metadata": {
    "id": "CzLyWoryI_0t"
   },
   "outputs": [],
   "source": [
    "df = df.dropna()"
   ]
  },
  {
   "cell_type": "code",
   "execution_count": 7,
   "metadata": {
    "id": "nRHyuSBuJBlj"
   },
   "outputs": [
    {
     "name": "stdout",
     "output_type": "stream",
     "text": [
      "<class 'pandas.core.frame.DataFrame'>\n",
      "Index: 162969 entries, 0 to 162979\n",
      "Data columns (total 2 columns):\n",
      " #   Column      Non-Null Count   Dtype  \n",
      "---  ------      --------------   -----  \n",
      " 0   clean_text  162969 non-null  object \n",
      " 1   category    162969 non-null  float64\n",
      "dtypes: float64(1), object(1)\n",
      "memory usage: 3.7+ MB\n"
     ]
    }
   ],
   "source": [
    "df.info()"
   ]
  },
  {
   "cell_type": "markdown",
   "metadata": {
    "id": "sVHQuLtbAv9M"
   },
   "source": [
    "## **4. Preprocessing data**\n",
    "\n"
   ]
  },
  {
   "cell_type": "code",
   "execution_count": 8,
   "metadata": {
    "id": "45GNGGYaAxt2"
   },
   "outputs": [],
   "source": [
    "def text_normalize(text):\n",
    "    # Lowercasing\n",
    "    text = text.lower()\n",
    "\n",
    "    # Retweet old acronym \"RT\" removal\n",
    "    text = re.sub(r'^rt[\\s]+', '', text)\n",
    "\n",
    "    # Hyperlinks removal\n",
    "    text = re.sub(r'https?:\\/\\/.*[\\r\\n]*', '', text)\n",
    "\n",
    "    # Punctuation removal\n",
    "    text = re.sub(r'[^\\w\\s]', '', text)\n",
    "\n",
    "    # Remove stopwords\n",
    "    stop_words = set(stopwords.words('english'))\n",
    "    words = text.split()\n",
    "    words = [word for word in words if word not in stop_words]\n",
    "    text = ' '.join(words)\n",
    "\n",
    "    # Stemming\n",
    "    stemmer = SnowballStemmer('english')\n",
    "    words = text.split()\n",
    "    words = [stemmer.stem(word) for word in words]\n",
    "    text = ' '.join(words)\n",
    "\n",
    "    return text"
   ]
  },
  {
   "cell_type": "code",
   "execution_count": 9,
   "metadata": {
    "id": "yCT-1Bh7Tjhd"
   },
   "outputs": [
    {
     "name": "stderr",
     "output_type": "stream",
     "text": [
      "C:\\Users\\MSI GS66\\AppData\\Local\\Temp\\ipykernel_31896\\2442437572.py:1: SettingWithCopyWarning: \n",
      "A value is trying to be set on a copy of a slice from a DataFrame.\n",
      "Try using .loc[row_indexer,col_indexer] = value instead\n",
      "\n",
      "See the caveats in the documentation: https://pandas.pydata.org/pandas-docs/stable/user_guide/indexing.html#returning-a-view-versus-a-copy\n",
      "  df['clean_text'] = df['clean_text'].apply(lambda x: text_normalize(x))\n"
     ]
    }
   ],
   "source": [
    "df['clean_text'] = df['clean_text'].apply(lambda x: text_normalize(x))"
   ]
  },
  {
   "cell_type": "code",
   "execution_count": 10,
   "metadata": {
    "id": "FI5FaYVi-4hh"
   },
   "outputs": [
    {
     "data": {
      "text/html": [
       "<div>\n",
       "<style scoped>\n",
       "    .dataframe tbody tr th:only-of-type {\n",
       "        vertical-align: middle;\n",
       "    }\n",
       "\n",
       "    .dataframe tbody tr th {\n",
       "        vertical-align: top;\n",
       "    }\n",
       "\n",
       "    .dataframe thead th {\n",
       "        text-align: right;\n",
       "    }\n",
       "</style>\n",
       "<table border=\"1\" class=\"dataframe\">\n",
       "  <thead>\n",
       "    <tr style=\"text-align: right;\">\n",
       "      <th></th>\n",
       "      <th>clean_text</th>\n",
       "      <th>category</th>\n",
       "    </tr>\n",
       "  </thead>\n",
       "  <tbody>\n",
       "    <tr>\n",
       "      <th>0</th>\n",
       "      <td>modi promis minimum govern maximum govern expe...</td>\n",
       "      <td>-1.0</td>\n",
       "    </tr>\n",
       "    <tr>\n",
       "      <th>1</th>\n",
       "      <td>talk nonsens continu drama vote modi</td>\n",
       "      <td>0.0</td>\n",
       "    </tr>\n",
       "    <tr>\n",
       "      <th>2</th>\n",
       "      <td>say vote modi welcom bjp told rahul main campa...</td>\n",
       "      <td>1.0</td>\n",
       "    </tr>\n",
       "    <tr>\n",
       "      <th>3</th>\n",
       "      <td>ask support prefix chowkidar name modi great s...</td>\n",
       "      <td>1.0</td>\n",
       "    </tr>\n",
       "    <tr>\n",
       "      <th>4</th>\n",
       "      <td>answer among power world leader today trump pu...</td>\n",
       "      <td>1.0</td>\n",
       "    </tr>\n",
       "    <tr>\n",
       "      <th>...</th>\n",
       "      <td>...</td>\n",
       "      <td>...</td>\n",
       "    </tr>\n",
       "    <tr>\n",
       "      <th>162975</th>\n",
       "      <td>456 crore paid neerav modi recov congress lead...</td>\n",
       "      <td>-1.0</td>\n",
       "    </tr>\n",
       "    <tr>\n",
       "      <th>162976</th>\n",
       "      <td>dear rss terrorist payal gawar modi kill 1000 ...</td>\n",
       "      <td>-1.0</td>\n",
       "    </tr>\n",
       "    <tr>\n",
       "      <th>162977</th>\n",
       "      <td>cover interact forum left</td>\n",
       "      <td>0.0</td>\n",
       "    </tr>\n",
       "    <tr>\n",
       "      <th>162978</th>\n",
       "      <td>big project came india modi dream project happ...</td>\n",
       "      <td>0.0</td>\n",
       "    </tr>\n",
       "    <tr>\n",
       "      <th>162979</th>\n",
       "      <td>ever listen like gurukul disciplin maintain ev...</td>\n",
       "      <td>1.0</td>\n",
       "    </tr>\n",
       "  </tbody>\n",
       "</table>\n",
       "<p>162969 rows × 2 columns</p>\n",
       "</div>"
      ],
      "text/plain": [
       "                                               clean_text  category\n",
       "0       modi promis minimum govern maximum govern expe...      -1.0\n",
       "1                    talk nonsens continu drama vote modi       0.0\n",
       "2       say vote modi welcom bjp told rahul main campa...       1.0\n",
       "3       ask support prefix chowkidar name modi great s...       1.0\n",
       "4       answer among power world leader today trump pu...       1.0\n",
       "...                                                   ...       ...\n",
       "162975  456 crore paid neerav modi recov congress lead...      -1.0\n",
       "162976  dear rss terrorist payal gawar modi kill 1000 ...      -1.0\n",
       "162977                          cover interact forum left       0.0\n",
       "162978  big project came india modi dream project happ...       0.0\n",
       "162979  ever listen like gurukul disciplin maintain ev...       1.0\n",
       "\n",
       "[162969 rows x 2 columns]"
      ]
     },
     "execution_count": 10,
     "metadata": {},
     "output_type": "execute_result"
    }
   ],
   "source": [
    "df"
   ]
  },
  {
   "cell_type": "code",
   "execution_count": 11,
   "metadata": {},
   "outputs": [],
   "source": [
    "vectorizer = TfidfVectorizer(max_features=2000)\n",
    "X = vectorizer.fit_transform(df['clean_text']).toarray()"
   ]
  },
  {
   "cell_type": "markdown",
   "metadata": {
    "id": "OzIDAMuZCuiP"
   },
   "source": [
    "## **5. Add bias term**"
   ]
  },
  {
   "cell_type": "code",
   "execution_count": 12,
   "metadata": {
    "id": "BK4E8SW9ZNvD"
   },
   "outputs": [],
   "source": [
    "intercept = np.ones((X.shape[0], 1))\n",
    "X_b = np.concatenate((intercept, X), axis=1)"
   ]
  },
  {
   "cell_type": "markdown",
   "metadata": {
    "id": "eqLmhRMGBVJn"
   },
   "source": [
    "## **6. One-hot encoding label**"
   ]
  },
  {
   "cell_type": "code",
   "execution_count": 13,
   "metadata": {
    "id": "jPkv9lPfZOxu"
   },
   "outputs": [],
   "source": [
    "n_classes = df['category'].nunique()\n",
    "n_samples = df['category'].shape[0]\n",
    "y = df['category'].to_numpy() + 1\n",
    "y = y.astype(np.uint8)\n",
    "\n",
    "y_encoded = np.array(\n",
    "    [np.zeros(n_classes) for _ in range(n_samples)]\n",
    ")\n",
    "y_encoded[np.arange(n_samples), y] = 1"
   ]
  },
  {
   "cell_type": "markdown",
   "metadata": {
    "id": "Oap8OOdJThGz"
   },
   "source": [
    "## **7. Create train, val, test set**"
   ]
  },
  {
   "cell_type": "code",
   "execution_count": 14,
   "metadata": {
    "id": "UppH-uK0UROv"
   },
   "outputs": [],
   "source": [
    "val_size = 0.2\n",
    "test_size = 0.125\n",
    "random_state = 2\n",
    "is_shuffle = True\n",
    "\n",
    "X_train, X_val, y_train, y_val = train_test_split(\n",
    "    X_b, y_encoded,\n",
    "    test_size=val_size,\n",
    "    random_state=random_state,\n",
    "    shuffle=is_shuffle\n",
    ")\n",
    "\n",
    "X_train, X_test, y_train, y_test = train_test_split(\n",
    "    X_train, y_train,\n",
    "    test_size=test_size,\n",
    "    random_state=random_state,\n",
    "    shuffle=is_shuffle\n",
    ")"
   ]
  },
  {
   "cell_type": "code",
   "execution_count": 15,
   "metadata": {
    "id": "wrZklXUWUZX_"
   },
   "outputs": [
    {
     "name": "stdout",
     "output_type": "stream",
     "text": [
      "Number of training samples: 114078\n",
      "Number of val samples: 32594\n",
      "Number of test samples: 16297\n"
     ]
    }
   ],
   "source": [
    "print(f'Number of training samples: {X_train.shape[0]}')\n",
    "print(f'Number of val samples: {X_val.shape[0]}')\n",
    "print(f'Number of test samples: {X_test.shape[0]}')"
   ]
  },
  {
   "cell_type": "markdown",
   "metadata": {
    "id": "oyd5xoaASjkk"
   },
   "source": [
    "## **7. Define essential functions**"
   ]
  },
  {
   "cell_type": "markdown",
   "metadata": {
    "id": "jjjiKAeQSnTX"
   },
   "source": [
    "### **7.1. Sigmoid function**"
   ]
  },
  {
   "cell_type": "code",
   "execution_count": 16,
   "metadata": {
    "id": "ch2h_amKSp89"
   },
   "outputs": [],
   "source": [
    "def softmax(z):\n",
    "    exp_z = np.exp(z)\n",
    "    return exp_z / exp_z.sum(axis =1)[:, None]"
   ]
  },
  {
   "cell_type": "markdown",
   "metadata": {
    "id": "JhU4rNR5Sqs2"
   },
   "source": [
    "### **7.2. Cross-entropy loss function**"
   ]
  },
  {
   "cell_type": "code",
   "execution_count": 17,
   "metadata": {
    "id": "ciAgUAsgSvI7"
   },
   "outputs": [],
   "source": [
    "def compute_loss(y_hat, y):\n",
    "    n = y.size\n",
    "    return (-1 / n) * np.sum(y * np.log(y_hat))"
   ]
  },
  {
   "cell_type": "markdown",
   "metadata": {
    "id": "kWlw97sHSxY7"
   },
   "source": [
    "### **7.3. Hypothesis function**"
   ]
  },
  {
   "cell_type": "code",
   "execution_count": 18,
   "metadata": {
    "id": "2VICRDKfS2d2"
   },
   "outputs": [],
   "source": [
    "def predict(X, theta):\n",
    "    z = np.dot(X, theta)\n",
    "    y_hat = softmax(z)\n",
    "    return y_hat"
   ]
  },
  {
   "cell_type": "markdown",
   "metadata": {
    "id": "cM8nAlGzS299"
   },
   "source": [
    "### **7.4. Gradient function**"
   ]
  },
  {
   "cell_type": "code",
   "execution_count": 19,
   "metadata": {
    "id": "T_rd8LgeSh4L"
   },
   "outputs": [],
   "source": [
    "def compute_gradient(X, y, y_hat):\n",
    "    n = y.size\n",
    "    return (1 / n) * np.dot(X.T, (y_hat - y))"
   ]
  },
  {
   "cell_type": "markdown",
   "metadata": {
    "id": "5X-_T_uKPpq_"
   },
   "source": [
    "### **7.5. Update weights function**"
   ]
  },
  {
   "cell_type": "code",
   "execution_count": 20,
   "metadata": {
    "id": "2WM0-mzuPslS"
   },
   "outputs": [],
   "source": [
    "def update_theta(theta, gradient, lr):\n",
    "    return theta - lr * gradient"
   ]
  },
  {
   "cell_type": "markdown",
   "metadata": {
    "id": "LlaR1y46MYsO"
   },
   "source": [
    "### **7.6. Accuracy function**"
   ]
  },
  {
   "cell_type": "code",
   "execution_count": 21,
   "metadata": {
    "id": "s_MALo1zMbh-"
   },
   "outputs": [],
   "source": [
    "def compute_accuracy(X, y, theta):\n",
    "    y_hat = predict(X, theta)\n",
    "    acc = (np.argmax(y_hat , axis =1) == np.argmax(y, axis =1)).mean()\n",
    "    return acc"
   ]
  },
  {
   "cell_type": "markdown",
   "metadata": {
    "id": "vjTzJ0HtWSMJ"
   },
   "source": [
    "## **8. Training**"
   ]
  },
  {
   "cell_type": "code",
   "execution_count": 22,
   "metadata": {
    "id": "-vm95Cm9WfnP"
   },
   "outputs": [],
   "source": [
    "lr = 0.1\n",
    "epochs = 200\n",
    "batch_size = X_train.shape[0]\n",
    "n_features = X_train.shape[1]\n",
    "\n",
    "np.random.seed(random_state)\n",
    "theta = np.random.uniform(\n",
    "    size=(n_features, n_classes)\n",
    ")"
   ]
  },
  {
   "cell_type": "code",
   "execution_count": 23,
   "metadata": {},
   "outputs": [
    {
     "name": "stdout",
     "output_type": "stream",
     "text": [
      "\n",
      "EPOCH 1:\tTraining loss: 0.379\tValidation loss: 0.379\n",
      "\n",
      "EPOCH 2:\tTraining loss: 0.379\tValidation loss: 0.378\n",
      "\n",
      "EPOCH 3:\tTraining loss: 0.378\tValidation loss: 0.378\n",
      "\n",
      "EPOCH 4:\tTraining loss: 0.378\tValidation loss: 0.378\n",
      "\n",
      "EPOCH 5:\tTraining loss: 0.378\tValidation loss: 0.377\n",
      "\n",
      "EPOCH 6:\tTraining loss: 0.377\tValidation loss: 0.377\n",
      "\n",
      "EPOCH 7:\tTraining loss: 0.377\tValidation loss: 0.377\n",
      "\n",
      "EPOCH 8:\tTraining loss: 0.377\tValidation loss: 0.376\n",
      "\n",
      "EPOCH 9:\tTraining loss: 0.376\tValidation loss: 0.376\n",
      "\n",
      "EPOCH 10:\tTraining loss: 0.376\tValidation loss: 0.376\n",
      "\n",
      "EPOCH 11:\tTraining loss: 0.376\tValidation loss: 0.375\n",
      "\n",
      "EPOCH 12:\tTraining loss: 0.376\tValidation loss: 0.375\n",
      "\n",
      "EPOCH 13:\tTraining loss: 0.375\tValidation loss: 0.375\n",
      "\n",
      "EPOCH 14:\tTraining loss: 0.375\tValidation loss: 0.375\n",
      "\n",
      "EPOCH 15:\tTraining loss: 0.375\tValidation loss: 0.374\n",
      "\n",
      "EPOCH 16:\tTraining loss: 0.374\tValidation loss: 0.374\n",
      "\n",
      "EPOCH 17:\tTraining loss: 0.374\tValidation loss: 0.374\n",
      "\n",
      "EPOCH 18:\tTraining loss: 0.374\tValidation loss: 0.374\n",
      "\n",
      "EPOCH 19:\tTraining loss: 0.374\tValidation loss: 0.373\n",
      "\n",
      "EPOCH 20:\tTraining loss: 0.373\tValidation loss: 0.373\n",
      "\n",
      "EPOCH 21:\tTraining loss: 0.373\tValidation loss: 0.373\n",
      "\n",
      "EPOCH 22:\tTraining loss: 0.373\tValidation loss: 0.373\n",
      "\n",
      "EPOCH 23:\tTraining loss: 0.373\tValidation loss: 0.372\n",
      "\n",
      "EPOCH 24:\tTraining loss: 0.373\tValidation loss: 0.372\n",
      "\n",
      "EPOCH 25:\tTraining loss: 0.372\tValidation loss: 0.372\n",
      "\n",
      "EPOCH 26:\tTraining loss: 0.372\tValidation loss: 0.372\n",
      "\n",
      "EPOCH 27:\tTraining loss: 0.372\tValidation loss: 0.371\n",
      "\n",
      "EPOCH 28:\tTraining loss: 0.372\tValidation loss: 0.371\n",
      "\n",
      "EPOCH 29:\tTraining loss: 0.371\tValidation loss: 0.371\n",
      "\n",
      "EPOCH 30:\tTraining loss: 0.371\tValidation loss: 0.371\n",
      "\n",
      "EPOCH 31:\tTraining loss: 0.371\tValidation loss: 0.371\n",
      "\n",
      "EPOCH 32:\tTraining loss: 0.371\tValidation loss: 0.370\n",
      "\n",
      "EPOCH 33:\tTraining loss: 0.371\tValidation loss: 0.370\n",
      "\n",
      "EPOCH 34:\tTraining loss: 0.371\tValidation loss: 0.370\n",
      "\n",
      "EPOCH 35:\tTraining loss: 0.370\tValidation loss: 0.370\n",
      "\n",
      "EPOCH 36:\tTraining loss: 0.370\tValidation loss: 0.370\n",
      "\n",
      "EPOCH 37:\tTraining loss: 0.370\tValidation loss: 0.370\n",
      "\n",
      "EPOCH 38:\tTraining loss: 0.370\tValidation loss: 0.369\n",
      "\n",
      "EPOCH 39:\tTraining loss: 0.370\tValidation loss: 0.369\n",
      "\n",
      "EPOCH 40:\tTraining loss: 0.369\tValidation loss: 0.369\n",
      "\n",
      "EPOCH 41:\tTraining loss: 0.369\tValidation loss: 0.369\n",
      "\n",
      "EPOCH 42:\tTraining loss: 0.369\tValidation loss: 0.369\n",
      "\n",
      "EPOCH 43:\tTraining loss: 0.369\tValidation loss: 0.369\n",
      "\n",
      "EPOCH 44:\tTraining loss: 0.369\tValidation loss: 0.368\n",
      "\n",
      "EPOCH 45:\tTraining loss: 0.369\tValidation loss: 0.368\n",
      "\n",
      "EPOCH 46:\tTraining loss: 0.369\tValidation loss: 0.368\n",
      "\n",
      "EPOCH 47:\tTraining loss: 0.368\tValidation loss: 0.368\n",
      "\n",
      "EPOCH 48:\tTraining loss: 0.368\tValidation loss: 0.368\n",
      "\n",
      "EPOCH 49:\tTraining loss: 0.368\tValidation loss: 0.368\n",
      "\n",
      "EPOCH 50:\tTraining loss: 0.368\tValidation loss: 0.368\n",
      "\n",
      "EPOCH 51:\tTraining loss: 0.368\tValidation loss: 0.367\n",
      "\n",
      "EPOCH 52:\tTraining loss: 0.368\tValidation loss: 0.367\n",
      "\n",
      "EPOCH 53:\tTraining loss: 0.368\tValidation loss: 0.367\n",
      "\n",
      "EPOCH 54:\tTraining loss: 0.368\tValidation loss: 0.367\n",
      "\n",
      "EPOCH 55:\tTraining loss: 0.367\tValidation loss: 0.367\n",
      "\n",
      "EPOCH 56:\tTraining loss: 0.367\tValidation loss: 0.367\n",
      "\n",
      "EPOCH 57:\tTraining loss: 0.367\tValidation loss: 0.367\n",
      "\n",
      "EPOCH 58:\tTraining loss: 0.367\tValidation loss: 0.367\n",
      "\n",
      "EPOCH 59:\tTraining loss: 0.367\tValidation loss: 0.367\n",
      "\n",
      "EPOCH 60:\tTraining loss: 0.367\tValidation loss: 0.366\n",
      "\n",
      "EPOCH 61:\tTraining loss: 0.367\tValidation loss: 0.366\n",
      "\n",
      "EPOCH 62:\tTraining loss: 0.367\tValidation loss: 0.366\n",
      "\n",
      "EPOCH 63:\tTraining loss: 0.367\tValidation loss: 0.366\n",
      "\n",
      "EPOCH 64:\tTraining loss: 0.366\tValidation loss: 0.366\n",
      "\n",
      "EPOCH 65:\tTraining loss: 0.366\tValidation loss: 0.366\n",
      "\n",
      "EPOCH 66:\tTraining loss: 0.366\tValidation loss: 0.366\n",
      "\n",
      "EPOCH 67:\tTraining loss: 0.366\tValidation loss: 0.366\n",
      "\n",
      "EPOCH 68:\tTraining loss: 0.366\tValidation loss: 0.366\n",
      "\n",
      "EPOCH 69:\tTraining loss: 0.366\tValidation loss: 0.365\n",
      "\n",
      "EPOCH 70:\tTraining loss: 0.366\tValidation loss: 0.365\n",
      "\n",
      "EPOCH 71:\tTraining loss: 0.366\tValidation loss: 0.365\n",
      "\n",
      "EPOCH 72:\tTraining loss: 0.366\tValidation loss: 0.365\n",
      "\n",
      "EPOCH 73:\tTraining loss: 0.366\tValidation loss: 0.365\n",
      "\n",
      "EPOCH 74:\tTraining loss: 0.365\tValidation loss: 0.365\n",
      "\n",
      "EPOCH 75:\tTraining loss: 0.365\tValidation loss: 0.365\n",
      "\n",
      "EPOCH 76:\tTraining loss: 0.365\tValidation loss: 0.365\n",
      "\n",
      "EPOCH 77:\tTraining loss: 0.365\tValidation loss: 0.365\n",
      "\n",
      "EPOCH 78:\tTraining loss: 0.365\tValidation loss: 0.365\n",
      "\n",
      "EPOCH 79:\tTraining loss: 0.365\tValidation loss: 0.365\n",
      "\n",
      "EPOCH 80:\tTraining loss: 0.365\tValidation loss: 0.365\n",
      "\n",
      "EPOCH 81:\tTraining loss: 0.365\tValidation loss: 0.364\n",
      "\n",
      "EPOCH 82:\tTraining loss: 0.365\tValidation loss: 0.364\n",
      "\n",
      "EPOCH 83:\tTraining loss: 0.365\tValidation loss: 0.364\n",
      "\n",
      "EPOCH 84:\tTraining loss: 0.365\tValidation loss: 0.364\n",
      "\n",
      "EPOCH 85:\tTraining loss: 0.365\tValidation loss: 0.364\n",
      "\n",
      "EPOCH 86:\tTraining loss: 0.365\tValidation loss: 0.364\n",
      "\n",
      "EPOCH 87:\tTraining loss: 0.365\tValidation loss: 0.364\n",
      "\n",
      "EPOCH 88:\tTraining loss: 0.364\tValidation loss: 0.364\n",
      "\n",
      "EPOCH 89:\tTraining loss: 0.364\tValidation loss: 0.364\n",
      "\n",
      "EPOCH 90:\tTraining loss: 0.364\tValidation loss: 0.364\n",
      "\n",
      "EPOCH 91:\tTraining loss: 0.364\tValidation loss: 0.364\n",
      "\n",
      "EPOCH 92:\tTraining loss: 0.364\tValidation loss: 0.364\n",
      "\n",
      "EPOCH 93:\tTraining loss: 0.364\tValidation loss: 0.364\n",
      "\n",
      "EPOCH 94:\tTraining loss: 0.364\tValidation loss: 0.364\n",
      "\n",
      "EPOCH 95:\tTraining loss: 0.364\tValidation loss: 0.364\n",
      "\n",
      "EPOCH 96:\tTraining loss: 0.364\tValidation loss: 0.364\n",
      "\n",
      "EPOCH 97:\tTraining loss: 0.364\tValidation loss: 0.363\n",
      "\n",
      "EPOCH 98:\tTraining loss: 0.364\tValidation loss: 0.363\n",
      "\n",
      "EPOCH 99:\tTraining loss: 0.364\tValidation loss: 0.363\n",
      "\n",
      "EPOCH 100:\tTraining loss: 0.364\tValidation loss: 0.363\n",
      "\n",
      "EPOCH 101:\tTraining loss: 0.364\tValidation loss: 0.363\n",
      "\n",
      "EPOCH 102:\tTraining loss: 0.364\tValidation loss: 0.363\n",
      "\n",
      "EPOCH 103:\tTraining loss: 0.364\tValidation loss: 0.363\n",
      "\n",
      "EPOCH 104:\tTraining loss: 0.364\tValidation loss: 0.363\n",
      "\n",
      "EPOCH 105:\tTraining loss: 0.364\tValidation loss: 0.363\n",
      "\n",
      "EPOCH 106:\tTraining loss: 0.363\tValidation loss: 0.363\n",
      "\n",
      "EPOCH 107:\tTraining loss: 0.363\tValidation loss: 0.363\n",
      "\n",
      "EPOCH 108:\tTraining loss: 0.363\tValidation loss: 0.363\n",
      "\n",
      "EPOCH 109:\tTraining loss: 0.363\tValidation loss: 0.363\n",
      "\n",
      "EPOCH 110:\tTraining loss: 0.363\tValidation loss: 0.363\n",
      "\n",
      "EPOCH 111:\tTraining loss: 0.363\tValidation loss: 0.363\n",
      "\n",
      "EPOCH 112:\tTraining loss: 0.363\tValidation loss: 0.363\n",
      "\n",
      "EPOCH 113:\tTraining loss: 0.363\tValidation loss: 0.363\n",
      "\n",
      "EPOCH 114:\tTraining loss: 0.363\tValidation loss: 0.363\n",
      "\n",
      "EPOCH 115:\tTraining loss: 0.363\tValidation loss: 0.363\n",
      "\n",
      "EPOCH 116:\tTraining loss: 0.363\tValidation loss: 0.363\n",
      "\n",
      "EPOCH 117:\tTraining loss: 0.363\tValidation loss: 0.363\n",
      "\n",
      "EPOCH 118:\tTraining loss: 0.363\tValidation loss: 0.362\n",
      "\n",
      "EPOCH 119:\tTraining loss: 0.363\tValidation loss: 0.362\n",
      "\n",
      "EPOCH 120:\tTraining loss: 0.363\tValidation loss: 0.362\n",
      "\n",
      "EPOCH 121:\tTraining loss: 0.363\tValidation loss: 0.362\n",
      "\n",
      "EPOCH 122:\tTraining loss: 0.363\tValidation loss: 0.362\n",
      "\n",
      "EPOCH 123:\tTraining loss: 0.363\tValidation loss: 0.362\n",
      "\n",
      "EPOCH 124:\tTraining loss: 0.363\tValidation loss: 0.362\n",
      "\n",
      "EPOCH 125:\tTraining loss: 0.363\tValidation loss: 0.362\n",
      "\n",
      "EPOCH 126:\tTraining loss: 0.363\tValidation loss: 0.362\n",
      "\n",
      "EPOCH 127:\tTraining loss: 0.363\tValidation loss: 0.362\n",
      "\n",
      "EPOCH 128:\tTraining loss: 0.363\tValidation loss: 0.362\n",
      "\n",
      "EPOCH 129:\tTraining loss: 0.363\tValidation loss: 0.362\n",
      "\n",
      "EPOCH 130:\tTraining loss: 0.363\tValidation loss: 0.362\n",
      "\n",
      "EPOCH 131:\tTraining loss: 0.362\tValidation loss: 0.362\n",
      "\n",
      "EPOCH 132:\tTraining loss: 0.362\tValidation loss: 0.362\n",
      "\n",
      "EPOCH 133:\tTraining loss: 0.362\tValidation loss: 0.362\n",
      "\n",
      "EPOCH 134:\tTraining loss: 0.362\tValidation loss: 0.362\n",
      "\n",
      "EPOCH 135:\tTraining loss: 0.362\tValidation loss: 0.362\n",
      "\n",
      "EPOCH 136:\tTraining loss: 0.362\tValidation loss: 0.362\n",
      "\n",
      "EPOCH 137:\tTraining loss: 0.362\tValidation loss: 0.362\n",
      "\n",
      "EPOCH 138:\tTraining loss: 0.362\tValidation loss: 0.362\n",
      "\n",
      "EPOCH 139:\tTraining loss: 0.362\tValidation loss: 0.362\n",
      "\n",
      "EPOCH 140:\tTraining loss: 0.362\tValidation loss: 0.362\n",
      "\n",
      "EPOCH 141:\tTraining loss: 0.362\tValidation loss: 0.362\n",
      "\n",
      "EPOCH 142:\tTraining loss: 0.362\tValidation loss: 0.362\n",
      "\n",
      "EPOCH 143:\tTraining loss: 0.362\tValidation loss: 0.362\n",
      "\n",
      "EPOCH 144:\tTraining loss: 0.362\tValidation loss: 0.362\n",
      "\n",
      "EPOCH 145:\tTraining loss: 0.362\tValidation loss: 0.362\n",
      "\n",
      "EPOCH 146:\tTraining loss: 0.362\tValidation loss: 0.362\n",
      "\n",
      "EPOCH 147:\tTraining loss: 0.362\tValidation loss: 0.362\n",
      "\n",
      "EPOCH 148:\tTraining loss: 0.362\tValidation loss: 0.362\n",
      "\n",
      "EPOCH 149:\tTraining loss: 0.362\tValidation loss: 0.362\n",
      "\n",
      "EPOCH 150:\tTraining loss: 0.362\tValidation loss: 0.361\n",
      "\n",
      "EPOCH 151:\tTraining loss: 0.362\tValidation loss: 0.361\n",
      "\n",
      "EPOCH 152:\tTraining loss: 0.362\tValidation loss: 0.361\n",
      "\n",
      "EPOCH 153:\tTraining loss: 0.362\tValidation loss: 0.361\n",
      "\n",
      "EPOCH 154:\tTraining loss: 0.362\tValidation loss: 0.361\n",
      "\n",
      "EPOCH 155:\tTraining loss: 0.362\tValidation loss: 0.361\n",
      "\n",
      "EPOCH 156:\tTraining loss: 0.362\tValidation loss: 0.361\n",
      "\n",
      "EPOCH 157:\tTraining loss: 0.362\tValidation loss: 0.361\n",
      "\n",
      "EPOCH 158:\tTraining loss: 0.362\tValidation loss: 0.361\n",
      "\n",
      "EPOCH 159:\tTraining loss: 0.362\tValidation loss: 0.361\n",
      "\n",
      "EPOCH 160:\tTraining loss: 0.362\tValidation loss: 0.361\n",
      "\n",
      "EPOCH 161:\tTraining loss: 0.362\tValidation loss: 0.361\n",
      "\n",
      "EPOCH 162:\tTraining loss: 0.362\tValidation loss: 0.361\n",
      "\n",
      "EPOCH 163:\tTraining loss: 0.362\tValidation loss: 0.361\n",
      "\n",
      "EPOCH 164:\tTraining loss: 0.362\tValidation loss: 0.361\n",
      "\n",
      "EPOCH 165:\tTraining loss: 0.362\tValidation loss: 0.361\n",
      "\n",
      "EPOCH 166:\tTraining loss: 0.362\tValidation loss: 0.361\n",
      "\n",
      "EPOCH 167:\tTraining loss: 0.362\tValidation loss: 0.361\n",
      "\n",
      "EPOCH 168:\tTraining loss: 0.362\tValidation loss: 0.361\n",
      "\n",
      "EPOCH 169:\tTraining loss: 0.362\tValidation loss: 0.361\n",
      "\n",
      "EPOCH 170:\tTraining loss: 0.362\tValidation loss: 0.361\n",
      "\n",
      "EPOCH 171:\tTraining loss: 0.362\tValidation loss: 0.361\n",
      "\n",
      "EPOCH 172:\tTraining loss: 0.362\tValidation loss: 0.361\n",
      "\n",
      "EPOCH 173:\tTraining loss: 0.361\tValidation loss: 0.361\n",
      "\n",
      "EPOCH 174:\tTraining loss: 0.361\tValidation loss: 0.361\n",
      "\n",
      "EPOCH 175:\tTraining loss: 0.361\tValidation loss: 0.361\n",
      "\n",
      "EPOCH 176:\tTraining loss: 0.361\tValidation loss: 0.361\n",
      "\n",
      "EPOCH 177:\tTraining loss: 0.361\tValidation loss: 0.361\n",
      "\n",
      "EPOCH 178:\tTraining loss: 0.361\tValidation loss: 0.361\n",
      "\n",
      "EPOCH 179:\tTraining loss: 0.361\tValidation loss: 0.361\n",
      "\n",
      "EPOCH 180:\tTraining loss: 0.361\tValidation loss: 0.361\n",
      "\n",
      "EPOCH 181:\tTraining loss: 0.361\tValidation loss: 0.361\n",
      "\n",
      "EPOCH 182:\tTraining loss: 0.361\tValidation loss: 0.361\n",
      "\n",
      "EPOCH 183:\tTraining loss: 0.361\tValidation loss: 0.361\n",
      "\n",
      "EPOCH 184:\tTraining loss: 0.361\tValidation loss: 0.361\n",
      "\n",
      "EPOCH 185:\tTraining loss: 0.361\tValidation loss: 0.361\n",
      "\n",
      "EPOCH 186:\tTraining loss: 0.361\tValidation loss: 0.361\n",
      "\n",
      "EPOCH 187:\tTraining loss: 0.361\tValidation loss: 0.361\n",
      "\n",
      "EPOCH 188:\tTraining loss: 0.361\tValidation loss: 0.361\n",
      "\n",
      "EPOCH 189:\tTraining loss: 0.361\tValidation loss: 0.361\n",
      "\n",
      "EPOCH 190:\tTraining loss: 0.361\tValidation loss: 0.361\n",
      "\n",
      "EPOCH 191:\tTraining loss: 0.361\tValidation loss: 0.361\n",
      "\n",
      "EPOCH 192:\tTraining loss: 0.361\tValidation loss: 0.361\n",
      "\n",
      "EPOCH 193:\tTraining loss: 0.361\tValidation loss: 0.361\n",
      "\n",
      "EPOCH 194:\tTraining loss: 0.361\tValidation loss: 0.361\n",
      "\n",
      "EPOCH 195:\tTraining loss: 0.361\tValidation loss: 0.361\n",
      "\n",
      "EPOCH 196:\tTraining loss: 0.361\tValidation loss: 0.361\n",
      "\n",
      "EPOCH 197:\tTraining loss: 0.361\tValidation loss: 0.361\n",
      "\n",
      "EPOCH 198:\tTraining loss: 0.361\tValidation loss: 0.361\n",
      "\n",
      "EPOCH 199:\tTraining loss: 0.361\tValidation loss: 0.361\n",
      "\n",
      "EPOCH 200:\tTraining loss: 0.361\tValidation loss: 0.361\n"
     ]
    }
   ],
   "source": [
    "train_accs = []\n",
    "train_losses = []\n",
    "val_accs = []\n",
    "val_losses = []\n",
    "\n",
    "for epoch in range(epochs):\n",
    "    train_batch_losses = []\n",
    "    train_batch_accs = []\n",
    "    val_batch_losses = []\n",
    "    val_batch_accs = []\n",
    "\n",
    "    for i in range(0, X_train.shape[0], batch_size):\n",
    "        X_i = X_train[i:i + batch_size]\n",
    "        y_i = y_train[i:i + batch_size]\n",
    "\n",
    "        y_hat = predict(X_i, theta)\n",
    "        train_loss = compute_loss(y_hat, y_i)\n",
    "        gradient = compute_gradient(X_i, y_i, y_hat)\n",
    "        theta = update_theta(theta, gradient, lr)\n",
    "\n",
    "        train_batch_losses.append(train_loss)\n",
    "        train_acc = compute_accuracy(X_train, y_train, theta)\n",
    "        train_batch_accs.append(train_acc)\n",
    "\n",
    "    y_val_hat = predict(X_val, theta)\n",
    "    val_loss = compute_loss(y_val_hat, y_val)\n",
    "    val_batch_losses.append(val_loss)\n",
    "    val_acc = compute_accuracy(X_val, y_val, theta)\n",
    "    val_batch_accs.append(val_acc)\n",
    "\n",
    "    train_batch_loss = sum(train_batch_losses) / len(train_batch_losses)\n",
    "    val_batch_loss = sum(val_batch_losses) / len(val_batch_losses)\n",
    "    train_batch_acc = sum(train_batch_accs) / len(train_batch_accs)\n",
    "    val_batch_acc = sum(val_batch_accs) / len(val_batch_accs)\n",
    "\n",
    "    train_losses.append(train_batch_loss)\n",
    "    val_losses.append(val_batch_loss)\n",
    "    train_accs.append(train_batch_acc)\n",
    "    val_accs.append(val_batch_acc)\n",
    "\n",
    "    print(f'\\nEPOCH {epoch + 1}:\\tTraining loss: {train_batch_loss:.3f}\\tValidation loss: {val_batch_loss:.3f}')\n"
   ]
  },
  {
   "cell_type": "code",
   "execution_count": 24,
   "metadata": {
    "id": "g78-CtUavsBI"
   },
   "outputs": [
    {
     "data": {
      "image/png": "[encoded data removed]",
      "text/plain": [
       "<Figure size 1200x1000 with 4 Axes>"
      ]
     },
     "metadata": {},
     "output_type": "display_data"
    }
   ],
   "source": [
    "fig, ax = plt.subplots(2, 2, figsize=(12, 10))\n",
    "ax[0, 0].plot(train_losses, color='green')\n",
    "ax[0, 0].set(xlabel='Epoch', ylabel='Loss')\n",
    "ax[0, 0].set_title('Training Loss')\n",
    "\n",
    "ax[0, 1].plot(val_losses, color='orange')\n",
    "ax[0, 1].set(xlabel='Epoch', ylabel='Loss')\n",
    "ax[0, 1].set_title('Validation Loss')\n",
    "\n",
    "ax[1, 0].plot(train_accs, color='green')\n",
    "ax[1, 0].set(xlabel='Epoch', ylabel='Accuracy')\n",
    "ax[1, 0].set_title('Training Accuracy')\n",
    "\n",
    "ax[1, 1].plot(val_accs, color='orange')\n",
    "ax[1, 1].set(xlabel='Epoch', ylabel='Accuracy')\n",
    "ax[1, 1].set_title('Validation Accuracy')\n",
    "\n",
    "plt.show()"
   ]
  },
  {
   "cell_type": "markdown",
   "metadata": {
    "id": "4YpiJSA-WdnX"
   },
   "source": [
    "## **9. Evaluation**"
   ]
  },
  {
   "cell_type": "code",
   "execution_count": 25,
   "metadata": {
    "id": "Osq7IQtj2e3N"
   },
   "outputs": [
    {
     "name": "stdout",
     "output_type": "stream",
     "text": [
      "Evaluation on validation set:\n",
      "Accuracy: 0.42059888323004235\n"
     ]
    }
   ],
   "source": [
    "# Val set\n",
    "val_set_acc = compute_accuracy(X_val, y_val, theta)\n",
    "print('Evaluation on validation set:')\n",
    "print(f'Accuracy: {val_set_acc}')\n"
   ]
  },
  {
   "cell_type": "code",
   "execution_count": 26,
   "metadata": {
    "id": "gbwp1s7M2gIx"
   },
   "outputs": [
    {
     "name": "stdout",
     "output_type": "stream",
     "text": [
      "Evaluation on test set:\n",
      "Accuracy: 0.4190341780695834\n"
     ]
    }
   ],
   "source": [
    "# Test set\n",
    "test_set_acc = compute_accuracy(X_test, y_test, theta)\n",
    "print('Evaluation on test set:')\n",
    "print(f'Accuracy: {test_set_acc}')"
   ]
  }
 ],
 "metadata": {
  "colab": {
   "provenance": []
  },
  "kernelspec": {
   "display_name": "base",
   "language": "python",
   "name": "python3"
  },
  "language_info": {
   "codemirror_mode": {
    "name": "ipython",
    "version": 3
   },
   "file_extension": ".py",
   "mimetype": "text/x-python",
   "name": "python",
   "nbconvert_exporter": "python",
   "pygments_lexer": "ipython3",
   "version": "3.11.5"
  }
 },
 "nbformat": 4,
 "nbformat_minor": 0
}
