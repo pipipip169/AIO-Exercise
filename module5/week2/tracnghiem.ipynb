{
 "cells": [
  {
   "cell_type": "code",
   "execution_count": 1,
   "metadata": {},
   "outputs": [
    {
     "name": "stdout",
     "output_type": "stream",
     "text": [
      "Cross-entropy loss: 0.229\n"
     ]
    }
   ],
   "source": [
    "import numpy as np\n",
    "\n",
    "def compute_loss(y_hat, y):\n",
    "    n = y.size\n",
    "    return (-1 / n) * np.sum(y * np.log(y_hat))\n",
    "\n",
    "# Giá trị đầu vào\n",
    "y_hat = np.array([0.4, 0.15, 0.05, 0.4])\n",
    "y = np.array([1, 0, 0, 0])\n",
    "\n",
    "# Tính loss\n",
    "loss = compute_loss(y_hat, y)\n",
    "print(f\"Cross-entropy loss: {loss:.3f}\")\n"
   ]
  },
  {
   "cell_type": "code",
   "execution_count": null,
   "metadata": {},
   "outputs": [
    {
     "name": "stdout",
     "output_type": "stream",
     "text": [
      "Z: [-1 -2  3  2]\n",
      "Softmax Probabilities (rounded to 3 decimal places): [0.013 0.005 0.718 0.264]\n"
     ]
    }
   ],
   "source": [
    "def softmax(z):\n",
    "    exp_z = np.exp(z)\n",
    "    return exp_z / np.sum(exp_z)\n",
    "\n",
    "z = np.array([-1, -2, 3, 2])\n",
    "probabilities = softmax(z)\n",
    "\n",
    "print(\"Z:\", z)\n",
    "print(\"Softmax Probabilities (rounded to 3 decimal places):\", np.round(probabilities, 3))\n"
   ]
  },
  {
   "cell_type": "code",
   "execution_count": 3,
   "metadata": {},
   "outputs": [
    {
     "name": "stdout",
     "output_type": "stream",
     "text": [
      "Accuracy: 0.5\n"
     ]
    }
   ],
   "source": [
    "def compute_accuracy(X, y, theta):\n",
    "    y_hat = predict(X, theta)\n",
    "    acc = (np.argmax(y_hat , axis =1) == np.argmax(y, axis =1)).mean()\n",
    "    return acc\n",
    "\n",
    "y_hat = np.array([0, 1, 3, 2, 0, 2, 1, 2])\n",
    "y = np.array([0, 0, 3, 2, 1, 2, 2, 1])\n",
    "\n",
    "correct_predictions = np.sum(y_hat == y)\n",
    "accuracy = correct_predictions / len(y)\n",
    "\n",
    "print(\"Accuracy:\", accuracy)"
   ]
  }
 ],
 "metadata": {
  "kernelspec": {
   "display_name": "Python 3",
   "language": "python",
   "name": "python3"
  },
  "language_info": {
   "codemirror_mode": {
    "name": "ipython",
    "version": 3
   },
   "file_extension": ".py",
   "mimetype": "text/x-python",
   "name": "python",
   "nbconvert_exporter": "python",
   "pygments_lexer": "ipython3",
   "version": "3.10.0"
  }
 },
 "nbformat": 4,
 "nbformat_minor": 2
}
