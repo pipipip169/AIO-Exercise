{
 "cells": [
  {
   "cell_type": "markdown",
   "metadata": {},
   "source": [
    "**Câu 6**"
   ]
  },
  {
   "cell_type": "code",
   "execution_count": 1,
   "metadata": {},
   "outputs": [
    {
     "name": "stdout",
     "output_type": "stream",
     "text": [
      "Hidden layer input: [ 3.55 -3.55]\n",
      "Hidden layer output (ReLU): [3.55 0.  ]\n",
      "Output layer input: 1.565\n",
      "Output layer output (Sigmoid): 0.8270696501038614\n",
      "Classification: 1\n",
      "(b) Loại 1\n"
     ]
    }
   ],
   "source": [
    "import numpy as np\n",
    "\n",
    "# Hàm kích hoạt ReLU\n",
    "def relu(x):\n",
    "    return np.maximum(0, x)\n",
    "\n",
    "# Hàm kích hoạt Sigmoid\n",
    "def sigmoid(x):\n",
    "    return 1 / (1 + np.exp(-x))\n",
    "\n",
    "# Input\n",
    "x = 5.1\n",
    "\n",
    "# Hidden Layer\n",
    "w_hidden = np.array([0.5, -0.5])  # Trọng số hidden layer\n",
    "b_hidden = np.array([1, -1])      # Bias hidden layer\n",
    "\n",
    "# Tính toán đầu ra của hidden layer\n",
    "hidden_input = w_hidden * x + b_hidden  # z = wx + b\n",
    "hidden_output = relu(hidden_input)      # a = ReLU(z)\n",
    "\n",
    "print(\"Hidden layer input:\", hidden_input)\n",
    "print(\"Hidden layer output (ReLU):\", hidden_output)\n",
    "\n",
    "# Output Layer\n",
    "w_output = np.array([0.3, -0.2])  # Trọng số output layer\n",
    "b_output = 0.5                    # Bias output layer\n",
    "\n",
    "# Tính toán đầu ra của output layer\n",
    "output_input = np.dot(w_output, hidden_output) + b_output  # z = w · a + b\n",
    "output = sigmoid(output_input)                             # a = Sigmoid(z)\n",
    "\n",
    "print(\"Output layer input:\", output_input)\n",
    "print(\"Output layer output (Sigmoid):\", output)\n",
    "\n",
    "# Phân loại\n",
    "classification = 1 if output > 0.5 else 0\n",
    "print(\"Classification:\", classification)\n",
    "\n",
    "# Kết quả\n",
    "if classification == 1:\n",
    "    print(\"(b) Loại 1\")\n",
    "else:\n",
    "    print(\"(a) Loại 0\")\n"
   ]
  },
  {
   "cell_type": "markdown",
   "metadata": {},
   "source": [
    "**Câu 7**"
   ]
  },
  {
   "cell_type": "code",
   "execution_count": 2,
   "metadata": {},
   "outputs": [
    {
     "name": "stdout",
     "output_type": "stream",
     "text": [
      "Hidden layer input: [ 26. -26.]\n",
      "Hidden layer output (ReLU): [26.  0.]\n",
      "Output layer input: 39.0\n",
      "Predicted house price: 39.0\n"
     ]
    }
   ],
   "source": [
    "import numpy as np\n",
    "\n",
    "# Hàm kích hoạt ReLU\n",
    "def relu(x):\n",
    "    return np.maximum(0, x)\n",
    "\n",
    "# Input\n",
    "x = 50  # Diện tích (input)\n",
    "\n",
    "# Hidden Layer\n",
    "w_hidden = np.array([0.5, -0.5])  # Trọng số hidden layer\n",
    "b_hidden = np.array([1, -1])      # Bias hidden layer\n",
    "\n",
    "# Tính toán đầu ra của hidden layer\n",
    "hidden_input = w_hidden * x + b_hidden  # z_hidden = w_hidden * x + b_hidden\n",
    "hidden_output = relu(hidden_input)      # a_hidden = ReLU(z_hidden)\n",
    "\n",
    "print(\"Hidden layer input:\", hidden_input)\n",
    "print(\"Hidden layer output (ReLU):\", hidden_output)\n",
    "\n",
    "# Output Layer\n",
    "w_output = np.array([1.5, 2])  # Trọng số output layer\n",
    "b_output = 0                   # Bias output layer\n",
    "\n",
    "# Tính toán đầu ra của output layer\n",
    "output_input = np.dot(w_output, hidden_output) + b_output  # z_output = w_output · a_hidden + b_output\n",
    "output = output_input  # Không cần hàm kích hoạt (linear activation)\n",
    "\n",
    "print(\"Output layer input:\", output_input)\n",
    "print(\"Predicted house price:\", output)\n"
   ]
  },
  {
   "cell_type": "code",
   "execution_count": null,
   "metadata": {},
   "outputs": [],
   "source": []
  }
 ],
 "metadata": {
  "kernelspec": {
   "display_name": "Python 3",
   "language": "python",
   "name": "python3"
  },
  "language_info": {
   "codemirror_mode": {
    "name": "ipython",
    "version": 3
   },
   "file_extension": ".py",
   "mimetype": "text/x-python",
   "name": "python",
   "nbconvert_exporter": "python",
   "pygments_lexer": "ipython3",
   "version": "3.10.0"
  }
 },
 "nbformat": 4,
 "nbformat_minor": 2
}
