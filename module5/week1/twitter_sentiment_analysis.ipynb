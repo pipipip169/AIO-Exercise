{
 "cells": [
  {
   "cell_type": "markdown",
   "metadata": {},
   "source": [
    "**Import libraries**"
   ]
  },
  {
   "cell_type": "code",
   "execution_count": 13,
   "metadata": {},
   "outputs": [],
   "source": [
    "import pandas as pd\n",
    "import numpy as np\n",
    "import re\n",
    "import nltk\n",
    "import matplotlib . pyplot as plt\n",
    "from sklearn.model_selection import train_test_split\n",
    "from sklearn.preprocessing import StandardScaler\n",
    "from nltk.tokenize import TweetTokenizer\n",
    "from collections import defaultdict"
   ]
  },
  {
   "cell_type": "markdown",
   "metadata": {},
   "source": [
    "**Đọc dữ liệu**"
   ]
  },
  {
   "cell_type": "code",
   "execution_count": 14,
   "metadata": {},
   "outputs": [],
   "source": [
    "dataset_path = 'sentiment_analysis.csv'\n",
    "df = pd.read_csv(dataset_path, index_col='id')"
   ]
  },
  {
   "cell_type": "markdown",
   "metadata": {},
   "source": [
    "**Preprocessig**"
   ]
  },
  {
   "cell_type": "markdown",
   "metadata": {},
   "source": [
    "**Hàm chuẩn hóa văn bản**"
   ]
  },
  {
   "cell_type": "code",
   "execution_count": 15,
   "metadata": {},
   "outputs": [],
   "source": [
    "def text_normalize(text):\n",
    "    # Retweet old acronym \"RT\" removal\n",
    "    text = re.sub(r'^RT [\\s]+', '', text)\n",
    "\n",
    "    # Hyperlinks removal\n",
    "    text = re.sub(r'https?://.*[\\r\\n]*', '', text)\n",
    "\n",
    "    # Hashtags removal\n",
    "    text = re.sub(r'#', '', text)\n",
    "\n",
    "    # Punctuation removal\n",
    "    text = re.sub(r'[^\\w\\s]', '', text)\n",
    "\n",
    "    # Tokenization\n",
    "    tokenizer = TweetTokenizer(\n",
    "        preserve_case=False,\n",
    "        strip_handles=True,\n",
    "        reduce_len=True\n",
    "    )\n",
    "    text_tokens = tokenizer.tokenize(text)\n",
    "\n",
    "    return text_tokens"
   ]
  },
  {
   "cell_type": "markdown",
   "metadata": {},
   "source": [
    "**Hàm lưu giữ tần suất các từ**"
   ]
  },
  {
   "cell_type": "code",
   "execution_count": 16,
   "metadata": {},
   "outputs": [],
   "source": [
    "def get_freqs(df):\n",
    "    freqs = defaultdict(lambda: 0)\n",
    "    for idx, row in df.iterrows():\n",
    "        tweet = row['tweet']\n",
    "        label = row['label']\n",
    "\n",
    "        tokens = text_normalize(tweet)\n",
    "        for token in tokens:\n",
    "            pair = (token, label)\n",
    "            freqs[pair] += 1\n",
    "\n",
    "    return freqs"
   ]
  },
  {
   "cell_type": "markdown",
   "metadata": {},
   "source": [
    "**Hàm tạo vector đặc trưng**"
   ]
  },
  {
   "cell_type": "code",
   "execution_count": 17,
   "metadata": {},
   "outputs": [],
   "source": [
    "def get_feature(text, freqs):\n",
    "    tokens = text_normalize(text)\n",
    "\n",
    "    X = np.zeros(3)\n",
    "    X[0] = 1\n",
    "\n",
    "    for token in tokens:\n",
    "        X[1] += freqs[(token, 0)]\n",
    "        X[2] += freqs[(token, 1)]\n",
    "\n",
    "    return X"
   ]
  },
  {
   "cell_type": "markdown",
   "metadata": {},
   "source": [
    "**Trích xuất đặc trưng toàn bộ dữ liệu**"
   ]
  },
  {
   "cell_type": "code",
   "execution_count": 18,
   "metadata": {},
   "outputs": [],
   "source": [
    "X = []\n",
    "y = []\n",
    "\n",
    "freqs = get_freqs(df)\n",
    "for idx, row in df.iterrows():\n",
    "    tweet = row['tweet']\n",
    "    label = row['label']\n",
    "\n",
    "    X_i = get_feature(tweet, freqs)\n",
    "    X.append(X_i)\n",
    "    y.append(label)\n",
    "\n",
    "X = np.array(X)\n",
    "y = np.array(y)"
   ]
  },
  {
   "cell_type": "markdown",
   "metadata": {},
   "source": [
    "**Chia bộ train, val, test**"
   ]
  },
  {
   "cell_type": "code",
   "execution_count": 19,
   "metadata": {},
   "outputs": [],
   "source": [
    "val_size = 0.2\n",
    "test_size = 0.125\n",
    "random_state = 2\n",
    "is_shuffle = True\n",
    "\n",
    "X_train, X_val, y_train, y_val = train_test_split(\n",
    "    X, y,\n",
    "    test_size=val_size,\n",
    "    random_state=random_state,\n",
    "    shuffle=is_shuffle\n",
    ")\n",
    "\n",
    "X_train, X_test, y_train, y_test = train_test_split(\n",
    "    X_train, y_train,\n",
    "    test_size=test_size,\n",
    "    random_state=random_state,\n",
    "    shuffle=is_shuffle\n",
    ")"
   ]
  },
  {
   "cell_type": "markdown",
   "metadata": {},
   "source": [
    "**Chuẩn hóa dữ liệu**"
   ]
  },
  {
   "cell_type": "code",
   "execution_count": 20,
   "metadata": {},
   "outputs": [],
   "source": [
    "normalizer = StandardScaler ()\n",
    "X_train [:, 1:] = normalizer . fit_transform ( X_train [:, 1:])\n",
    "X_val [:, 1:] = normalizer . transform ( X_val [:, 1:])\n",
    "X_test [:, 1:] = normalizer . transform ( X_test [:, 1:])"
   ]
  },
  {
   "cell_type": "markdown",
   "metadata": {},
   "source": [
    "**Hàm sigmoid**"
   ]
  },
  {
   "cell_type": "code",
   "execution_count": 21,
   "metadata": {},
   "outputs": [],
   "source": [
    "def sigmoid (z):\n",
    "    return 1 / (1 + np.exp(-z))"
   ]
  },
  {
   "cell_type": "markdown",
   "metadata": {},
   "source": [
    "**Hàm tính loss**"
   ]
  },
  {
   "cell_type": "code",
   "execution_count": 22,
   "metadata": {},
   "outputs": [],
   "source": [
    "def compute_loss (y_hat , y):\n",
    "    y_hat = np.clip(y_hat, 1e-7, 1 - 1e-7)\n",
    "\n",
    "    return (-y * np.log(y_hat) - (1 - y) * np.log(1 - y_hat)).mean()"
   ]
  },
  {
   "cell_type": "markdown",
   "metadata": {},
   "source": [
    "**Hàm dự đoán**"
   ]
  },
  {
   "cell_type": "code",
   "execution_count": 23,
   "metadata": {},
   "outputs": [],
   "source": [
    "def predict(X, theta):\n",
    "    dot_product = np.dot(X, theta)\n",
    "    y_hat = sigmoid(dot_product)\n",
    "    return y_hat"
   ]
  },
  {
   "cell_type": "markdown",
   "metadata": {},
   "source": [
    "H**àm tính gradiaent**"
   ]
  },
  {
   "cell_type": "code",
   "execution_count": 24,
   "metadata": {},
   "outputs": [],
   "source": [
    "def compute_gradient(X, y, y_hat):\n",
    "    return np.dot(X.T, (y_hat - y))/y.size"
   ]
  },
  {
   "cell_type": "markdown",
   "metadata": {},
   "source": [
    "**Cập nhật trọng số**"
   ]
  },
  {
   "cell_type": "code",
   "execution_count": 25,
   "metadata": {},
   "outputs": [],
   "source": [
    "def update_theta(theta , gradient , lr):\n",
    "     return theta - lr * gradient"
   ]
  },
  {
   "cell_type": "markdown",
   "metadata": {},
   "source": [
    "**Hàm tính độ chính xác**"
   ]
  },
  {
   "cell_type": "code",
   "execution_count": 26,
   "metadata": {},
   "outputs": [],
   "source": [
    "def compute_accuracy(X, y, theta ):\n",
    "    y_hat = predict(X, theta ).round ()\n",
    "    acc = (y_hat == y).mean ()\n",
    "\n",
    "    return acc"
   ]
  },
  {
   "cell_type": "markdown",
   "metadata": {},
   "source": [
    "**Khai báo các siêu tham số và khởi tạo weights**"
   ]
  },
  {
   "cell_type": "code",
   "execution_count": 27,
   "metadata": {},
   "outputs": [],
   "source": [
    "lr = 0.01\n",
    "epochs = 200\n",
    "batch_size = 128\n",
    "\n",
    "np.random.seed(random_state )\n",
    "theta = np.random.uniform(size = X_train.shape[1])"
   ]
  },
  {
   "cell_type": "markdown",
   "metadata": {},
   "source": [
    "**Huấn luyện mô hình**"
   ]
  },
  {
   "cell_type": "code",
   "execution_count": 28,
   "metadata": {},
   "outputs": [
    {
     "name": "stdout",
     "output_type": "stream",
     "text": [
      "\n",
      "EPOCH 1:\tTraining loss: 0.707\tValidation loss: 0.681\n",
      "\n",
      "EPOCH 2:\tTraining loss: 0.661\tValidation loss: 0.640\n",
      "\n",
      "EPOCH 3:\tTraining loss: 0.624\tValidation loss: 0.606\n",
      "\n",
      "EPOCH 4:\tTraining loss: 0.594\tValidation loss: 0.578\n",
      "\n",
      "EPOCH 5:\tTraining loss: 0.569\tValidation loss: 0.556\n",
      "\n",
      "EPOCH 6:\tTraining loss: 0.548\tValidation loss: 0.537\n",
      "\n",
      "EPOCH 7:\tTraining loss: 0.531\tValidation loss: 0.521\n",
      "\n",
      "EPOCH 8:\tTraining loss: 0.516\tValidation loss: 0.508\n",
      "\n",
      "EPOCH 9:\tTraining loss: 0.504\tValidation loss: 0.496\n",
      "\n",
      "EPOCH 10:\tTraining loss: 0.494\tValidation loss: 0.487\n",
      "\n",
      "EPOCH 11:\tTraining loss: 0.485\tValidation loss: 0.479\n",
      "\n",
      "EPOCH 12:\tTraining loss: 0.477\tValidation loss: 0.472\n",
      "\n",
      "EPOCH 13:\tTraining loss: 0.471\tValidation loss: 0.465\n",
      "\n",
      "EPOCH 14:\tTraining loss: 0.465\tValidation loss: 0.460\n",
      "\n",
      "EPOCH 15:\tTraining loss: 0.460\tValidation loss: 0.455\n",
      "\n",
      "EPOCH 16:\tTraining loss: 0.456\tValidation loss: 0.451\n",
      "\n",
      "EPOCH 17:\tTraining loss: 0.452\tValidation loss: 0.447\n",
      "\n",
      "EPOCH 18:\tTraining loss: 0.448\tValidation loss: 0.444\n",
      "\n",
      "EPOCH 19:\tTraining loss: 0.445\tValidation loss: 0.441\n",
      "\n",
      "EPOCH 20:\tTraining loss: 0.442\tValidation loss: 0.438\n",
      "\n",
      "EPOCH 21:\tTraining loss: 0.440\tValidation loss: 0.436\n",
      "\n",
      "EPOCH 22:\tTraining loss: 0.437\tValidation loss: 0.433\n",
      "\n",
      "EPOCH 23:\tTraining loss: 0.435\tValidation loss: 0.431\n",
      "\n",
      "EPOCH 24:\tTraining loss: 0.433\tValidation loss: 0.429\n",
      "\n",
      "EPOCH 25:\tTraining loss: 0.431\tValidation loss: 0.427\n",
      "\n",
      "EPOCH 26:\tTraining loss: 0.430\tValidation loss: 0.426\n",
      "\n",
      "EPOCH 27:\tTraining loss: 0.428\tValidation loss: 0.424\n",
      "\n",
      "EPOCH 28:\tTraining loss: 0.427\tValidation loss: 0.423\n",
      "\n",
      "EPOCH 29:\tTraining loss: 0.425\tValidation loss: 0.421\n",
      "\n",
      "EPOCH 30:\tTraining loss: 0.424\tValidation loss: 0.420\n",
      "\n",
      "EPOCH 31:\tTraining loss: 0.423\tValidation loss: 0.419\n",
      "\n",
      "EPOCH 32:\tTraining loss: 0.421\tValidation loss: 0.417\n",
      "\n",
      "EPOCH 33:\tTraining loss: 0.420\tValidation loss: 0.416\n",
      "\n",
      "EPOCH 34:\tTraining loss: 0.419\tValidation loss: 0.415\n",
      "\n",
      "EPOCH 35:\tTraining loss: 0.418\tValidation loss: 0.414\n",
      "\n",
      "EPOCH 36:\tTraining loss: 0.417\tValidation loss: 0.413\n",
      "\n",
      "EPOCH 37:\tTraining loss: 0.416\tValidation loss: 0.412\n",
      "\n",
      "EPOCH 38:\tTraining loss: 0.415\tValidation loss: 0.411\n",
      "\n",
      "EPOCH 39:\tTraining loss: 0.414\tValidation loss: 0.410\n",
      "\n",
      "EPOCH 40:\tTraining loss: 0.414\tValidation loss: 0.410\n",
      "\n",
      "EPOCH 41:\tTraining loss: 0.413\tValidation loss: 0.409\n",
      "\n",
      "EPOCH 42:\tTraining loss: 0.412\tValidation loss: 0.408\n",
      "\n",
      "EPOCH 43:\tTraining loss: 0.411\tValidation loss: 0.407\n",
      "\n",
      "EPOCH 44:\tTraining loss: 0.411\tValidation loss: 0.406\n",
      "\n",
      "EPOCH 45:\tTraining loss: 0.410\tValidation loss: 0.406\n",
      "\n",
      "EPOCH 46:\tTraining loss: 0.409\tValidation loss: 0.405\n",
      "\n",
      "EPOCH 47:\tTraining loss: 0.408\tValidation loss: 0.404\n",
      "\n",
      "EPOCH 48:\tTraining loss: 0.408\tValidation loss: 0.404\n",
      "\n",
      "EPOCH 49:\tTraining loss: 0.407\tValidation loss: 0.403\n",
      "\n",
      "EPOCH 50:\tTraining loss: 0.407\tValidation loss: 0.402\n",
      "\n",
      "EPOCH 51:\tTraining loss: 0.406\tValidation loss: 0.402\n",
      "\n",
      "EPOCH 52:\tTraining loss: 0.405\tValidation loss: 0.401\n",
      "\n",
      "EPOCH 53:\tTraining loss: 0.405\tValidation loss: 0.401\n",
      "\n",
      "EPOCH 54:\tTraining loss: 0.404\tValidation loss: 0.400\n",
      "\n",
      "EPOCH 55:\tTraining loss: 0.404\tValidation loss: 0.400\n",
      "\n",
      "EPOCH 56:\tTraining loss: 0.403\tValidation loss: 0.399\n",
      "\n",
      "EPOCH 57:\tTraining loss: 0.403\tValidation loss: 0.399\n",
      "\n",
      "EPOCH 58:\tTraining loss: 0.402\tValidation loss: 0.398\n",
      "\n",
      "EPOCH 59:\tTraining loss: 0.402\tValidation loss: 0.398\n",
      "\n",
      "EPOCH 60:\tTraining loss: 0.401\tValidation loss: 0.397\n",
      "\n",
      "EPOCH 61:\tTraining loss: 0.401\tValidation loss: 0.397\n",
      "\n",
      "EPOCH 62:\tTraining loss: 0.401\tValidation loss: 0.396\n",
      "\n",
      "EPOCH 63:\tTraining loss: 0.400\tValidation loss: 0.396\n",
      "\n",
      "EPOCH 64:\tTraining loss: 0.400\tValidation loss: 0.395\n",
      "\n",
      "EPOCH 65:\tTraining loss: 0.399\tValidation loss: 0.395\n",
      "\n",
      "EPOCH 66:\tTraining loss: 0.399\tValidation loss: 0.395\n",
      "\n",
      "EPOCH 67:\tTraining loss: 0.398\tValidation loss: 0.394\n",
      "\n",
      "EPOCH 68:\tTraining loss: 0.398\tValidation loss: 0.394\n",
      "\n",
      "EPOCH 69:\tTraining loss: 0.398\tValidation loss: 0.393\n",
      "\n",
      "EPOCH 70:\tTraining loss: 0.397\tValidation loss: 0.393\n",
      "\n",
      "EPOCH 71:\tTraining loss: 0.397\tValidation loss: 0.393\n",
      "\n",
      "EPOCH 72:\tTraining loss: 0.397\tValidation loss: 0.392\n",
      "\n",
      "EPOCH 73:\tTraining loss: 0.396\tValidation loss: 0.392\n",
      "\n",
      "EPOCH 74:\tTraining loss: 0.396\tValidation loss: 0.392\n",
      "\n",
      "EPOCH 75:\tTraining loss: 0.396\tValidation loss: 0.391\n",
      "\n",
      "EPOCH 76:\tTraining loss: 0.395\tValidation loss: 0.391\n",
      "\n",
      "EPOCH 77:\tTraining loss: 0.395\tValidation loss: 0.391\n",
      "\n",
      "EPOCH 78:\tTraining loss: 0.395\tValidation loss: 0.390\n",
      "\n",
      "EPOCH 79:\tTraining loss: 0.394\tValidation loss: 0.390\n",
      "\n",
      "EPOCH 80:\tTraining loss: 0.394\tValidation loss: 0.390\n",
      "\n",
      "EPOCH 81:\tTraining loss: 0.394\tValidation loss: 0.389\n",
      "\n",
      "EPOCH 82:\tTraining loss: 0.394\tValidation loss: 0.389\n",
      "\n",
      "EPOCH 83:\tTraining loss: 0.393\tValidation loss: 0.389\n",
      "\n",
      "EPOCH 84:\tTraining loss: 0.393\tValidation loss: 0.388\n",
      "\n",
      "EPOCH 85:\tTraining loss: 0.393\tValidation loss: 0.388\n",
      "\n",
      "EPOCH 86:\tTraining loss: 0.392\tValidation loss: 0.388\n",
      "\n",
      "EPOCH 87:\tTraining loss: 0.392\tValidation loss: 0.388\n",
      "\n",
      "EPOCH 88:\tTraining loss: 0.392\tValidation loss: 0.387\n",
      "\n",
      "EPOCH 89:\tTraining loss: 0.392\tValidation loss: 0.387\n",
      "\n",
      "EPOCH 90:\tTraining loss: 0.391\tValidation loss: 0.387\n",
      "\n",
      "EPOCH 91:\tTraining loss: 0.391\tValidation loss: 0.387\n",
      "\n",
      "EPOCH 92:\tTraining loss: 0.391\tValidation loss: 0.386\n",
      "\n",
      "EPOCH 93:\tTraining loss: 0.391\tValidation loss: 0.386\n",
      "\n",
      "EPOCH 94:\tTraining loss: 0.391\tValidation loss: 0.386\n",
      "\n",
      "EPOCH 95:\tTraining loss: 0.390\tValidation loss: 0.386\n",
      "\n",
      "EPOCH 96:\tTraining loss: 0.390\tValidation loss: 0.385\n",
      "\n",
      "EPOCH 97:\tTraining loss: 0.390\tValidation loss: 0.385\n",
      "\n",
      "EPOCH 98:\tTraining loss: 0.390\tValidation loss: 0.385\n",
      "\n",
      "EPOCH 99:\tTraining loss: 0.389\tValidation loss: 0.385\n",
      "\n",
      "EPOCH 100:\tTraining loss: 0.389\tValidation loss: 0.385\n",
      "\n",
      "EPOCH 101:\tTraining loss: 0.389\tValidation loss: 0.384\n",
      "\n",
      "EPOCH 102:\tTraining loss: 0.389\tValidation loss: 0.384\n",
      "\n",
      "EPOCH 103:\tTraining loss: 0.389\tValidation loss: 0.384\n",
      "\n",
      "EPOCH 104:\tTraining loss: 0.389\tValidation loss: 0.384\n",
      "\n",
      "EPOCH 105:\tTraining loss: 0.388\tValidation loss: 0.384\n",
      "\n",
      "EPOCH 106:\tTraining loss: 0.388\tValidation loss: 0.383\n",
      "\n",
      "EPOCH 107:\tTraining loss: 0.388\tValidation loss: 0.383\n",
      "\n",
      "EPOCH 108:\tTraining loss: 0.388\tValidation loss: 0.383\n",
      "\n",
      "EPOCH 109:\tTraining loss: 0.388\tValidation loss: 0.383\n",
      "\n",
      "EPOCH 110:\tTraining loss: 0.387\tValidation loss: 0.383\n",
      "\n",
      "EPOCH 111:\tTraining loss: 0.387\tValidation loss: 0.383\n",
      "\n",
      "EPOCH 112:\tTraining loss: 0.387\tValidation loss: 0.382\n",
      "\n",
      "EPOCH 113:\tTraining loss: 0.387\tValidation loss: 0.382\n",
      "\n",
      "EPOCH 114:\tTraining loss: 0.387\tValidation loss: 0.382\n",
      "\n",
      "EPOCH 115:\tTraining loss: 0.387\tValidation loss: 0.382\n",
      "\n",
      "EPOCH 116:\tTraining loss: 0.387\tValidation loss: 0.382\n",
      "\n",
      "EPOCH 117:\tTraining loss: 0.386\tValidation loss: 0.382\n",
      "\n",
      "EPOCH 118:\tTraining loss: 0.386\tValidation loss: 0.381\n",
      "\n",
      "EPOCH 119:\tTraining loss: 0.386\tValidation loss: 0.381\n",
      "\n",
      "EPOCH 120:\tTraining loss: 0.386\tValidation loss: 0.381\n",
      "\n",
      "EPOCH 121:\tTraining loss: 0.386\tValidation loss: 0.381\n",
      "\n",
      "EPOCH 122:\tTraining loss: 0.386\tValidation loss: 0.381\n",
      "\n",
      "EPOCH 123:\tTraining loss: 0.386\tValidation loss: 0.381\n",
      "\n",
      "EPOCH 124:\tTraining loss: 0.385\tValidation loss: 0.381\n",
      "\n",
      "EPOCH 125:\tTraining loss: 0.385\tValidation loss: 0.380\n",
      "\n",
      "EPOCH 126:\tTraining loss: 0.385\tValidation loss: 0.380\n",
      "\n",
      "EPOCH 127:\tTraining loss: 0.385\tValidation loss: 0.380\n",
      "\n",
      "EPOCH 128:\tTraining loss: 0.385\tValidation loss: 0.380\n",
      "\n",
      "EPOCH 129:\tTraining loss: 0.385\tValidation loss: 0.380\n",
      "\n",
      "EPOCH 130:\tTraining loss: 0.385\tValidation loss: 0.380\n",
      "\n",
      "EPOCH 131:\tTraining loss: 0.385\tValidation loss: 0.380\n",
      "\n",
      "EPOCH 132:\tTraining loss: 0.385\tValidation loss: 0.380\n",
      "\n",
      "EPOCH 133:\tTraining loss: 0.384\tValidation loss: 0.379\n",
      "\n",
      "EPOCH 134:\tTraining loss: 0.384\tValidation loss: 0.379\n",
      "\n",
      "EPOCH 135:\tTraining loss: 0.384\tValidation loss: 0.379\n",
      "\n",
      "EPOCH 136:\tTraining loss: 0.384\tValidation loss: 0.379\n",
      "\n",
      "EPOCH 137:\tTraining loss: 0.384\tValidation loss: 0.379\n",
      "\n",
      "EPOCH 138:\tTraining loss: 0.384\tValidation loss: 0.379\n",
      "\n",
      "EPOCH 139:\tTraining loss: 0.384\tValidation loss: 0.379\n",
      "\n",
      "EPOCH 140:\tTraining loss: 0.384\tValidation loss: 0.379\n",
      "\n",
      "EPOCH 141:\tTraining loss: 0.384\tValidation loss: 0.379\n",
      "\n",
      "EPOCH 142:\tTraining loss: 0.384\tValidation loss: 0.378\n",
      "\n",
      "EPOCH 143:\tTraining loss: 0.383\tValidation loss: 0.378\n",
      "\n",
      "EPOCH 144:\tTraining loss: 0.383\tValidation loss: 0.378\n",
      "\n",
      "EPOCH 145:\tTraining loss: 0.383\tValidation loss: 0.378\n",
      "\n",
      "EPOCH 146:\tTraining loss: 0.383\tValidation loss: 0.378\n",
      "\n",
      "EPOCH 147:\tTraining loss: 0.383\tValidation loss: 0.378\n",
      "\n",
      "EPOCH 148:\tTraining loss: 0.383\tValidation loss: 0.378\n",
      "\n",
      "EPOCH 149:\tTraining loss: 0.383\tValidation loss: 0.378\n",
      "\n",
      "EPOCH 150:\tTraining loss: 0.383\tValidation loss: 0.378\n",
      "\n",
      "EPOCH 151:\tTraining loss: 0.383\tValidation loss: 0.378\n",
      "\n",
      "EPOCH 152:\tTraining loss: 0.383\tValidation loss: 0.378\n",
      "\n",
      "EPOCH 153:\tTraining loss: 0.383\tValidation loss: 0.377\n",
      "\n",
      "EPOCH 154:\tTraining loss: 0.382\tValidation loss: 0.377\n",
      "\n",
      "EPOCH 155:\tTraining loss: 0.382\tValidation loss: 0.377\n",
      "\n",
      "EPOCH 156:\tTraining loss: 0.382\tValidation loss: 0.377\n",
      "\n",
      "EPOCH 157:\tTraining loss: 0.382\tValidation loss: 0.377\n",
      "\n",
      "EPOCH 158:\tTraining loss: 0.382\tValidation loss: 0.377\n",
      "\n",
      "EPOCH 159:\tTraining loss: 0.382\tValidation loss: 0.377\n",
      "\n",
      "EPOCH 160:\tTraining loss: 0.382\tValidation loss: 0.377\n",
      "\n",
      "EPOCH 161:\tTraining loss: 0.382\tValidation loss: 0.377\n",
      "\n",
      "EPOCH 162:\tTraining loss: 0.382\tValidation loss: 0.377\n",
      "\n",
      "EPOCH 163:\tTraining loss: 0.382\tValidation loss: 0.377\n",
      "\n",
      "EPOCH 164:\tTraining loss: 0.382\tValidation loss: 0.377\n",
      "\n",
      "EPOCH 165:\tTraining loss: 0.382\tValidation loss: 0.376\n",
      "\n",
      "EPOCH 166:\tTraining loss: 0.382\tValidation loss: 0.376\n",
      "\n",
      "EPOCH 167:\tTraining loss: 0.382\tValidation loss: 0.376\n",
      "\n",
      "EPOCH 168:\tTraining loss: 0.382\tValidation loss: 0.376\n",
      "\n",
      "EPOCH 169:\tTraining loss: 0.381\tValidation loss: 0.376\n",
      "\n",
      "EPOCH 170:\tTraining loss: 0.381\tValidation loss: 0.376\n",
      "\n",
      "EPOCH 171:\tTraining loss: 0.381\tValidation loss: 0.376\n",
      "\n",
      "EPOCH 172:\tTraining loss: 0.381\tValidation loss: 0.376\n",
      "\n",
      "EPOCH 173:\tTraining loss: 0.381\tValidation loss: 0.376\n",
      "\n",
      "EPOCH 174:\tTraining loss: 0.381\tValidation loss: 0.376\n",
      "\n",
      "EPOCH 175:\tTraining loss: 0.381\tValidation loss: 0.376\n",
      "\n",
      "EPOCH 176:\tTraining loss: 0.381\tValidation loss: 0.376\n",
      "\n",
      "EPOCH 177:\tTraining loss: 0.381\tValidation loss: 0.376\n",
      "\n",
      "EPOCH 178:\tTraining loss: 0.381\tValidation loss: 0.376\n",
      "\n",
      "EPOCH 179:\tTraining loss: 0.381\tValidation loss: 0.376\n",
      "\n",
      "EPOCH 180:\tTraining loss: 0.381\tValidation loss: 0.375\n",
      "\n",
      "EPOCH 181:\tTraining loss: 0.381\tValidation loss: 0.375\n",
      "\n",
      "EPOCH 182:\tTraining loss: 0.381\tValidation loss: 0.375\n",
      "\n",
      "EPOCH 183:\tTraining loss: 0.381\tValidation loss: 0.375\n",
      "\n",
      "EPOCH 184:\tTraining loss: 0.381\tValidation loss: 0.375\n",
      "\n",
      "EPOCH 185:\tTraining loss: 0.381\tValidation loss: 0.375\n",
      "\n",
      "EPOCH 186:\tTraining loss: 0.381\tValidation loss: 0.375\n",
      "\n",
      "EPOCH 187:\tTraining loss: 0.381\tValidation loss: 0.375\n",
      "\n",
      "EPOCH 188:\tTraining loss: 0.380\tValidation loss: 0.375\n",
      "\n",
      "EPOCH 189:\tTraining loss: 0.380\tValidation loss: 0.375\n",
      "\n",
      "EPOCH 190:\tTraining loss: 0.380\tValidation loss: 0.375\n",
      "\n",
      "EPOCH 191:\tTraining loss: 0.380\tValidation loss: 0.375\n",
      "\n",
      "EPOCH 192:\tTraining loss: 0.380\tValidation loss: 0.375\n",
      "\n",
      "EPOCH 193:\tTraining loss: 0.380\tValidation loss: 0.375\n",
      "\n",
      "EPOCH 194:\tTraining loss: 0.380\tValidation loss: 0.375\n",
      "\n",
      "EPOCH 195:\tTraining loss: 0.380\tValidation loss: 0.375\n",
      "\n",
      "EPOCH 196:\tTraining loss: 0.380\tValidation loss: 0.375\n",
      "\n",
      "EPOCH 197:\tTraining loss: 0.380\tValidation loss: 0.375\n",
      "\n",
      "EPOCH 198:\tTraining loss: 0.380\tValidation loss: 0.375\n",
      "\n",
      "EPOCH 199:\tTraining loss: 0.380\tValidation loss: 0.374\n",
      "\n",
      "EPOCH 200:\tTraining loss: 0.380\tValidation loss: 0.374\n"
     ]
    }
   ],
   "source": [
    "train_accs = []\n",
    "train_losses = []\n",
    "val_accs = []\n",
    "val_losses = []\n",
    "\n",
    "for epoch in range(epochs):\n",
    "    train_batch_losses = []\n",
    "    train_batch_accs = []\n",
    "    val_batch_losses = []\n",
    "    val_batch_accs = []\n",
    "\n",
    "    for i in range(0, X_train.shape[0], batch_size):\n",
    "        X_i = X_train[i:i + batch_size]\n",
    "        y_i = y_train[i:i + batch_size]\n",
    "\n",
    "        y_hat = predict(X_i, theta)\n",
    "\n",
    "        train_loss = compute_loss(y_hat, y_i)\n",
    "\n",
    "        gradient = compute_gradient(X_i, y_i, y_hat)\n",
    "\n",
    "        theta = update_theta(theta, gradient, lr)\n",
    "\n",
    "        train_batch_losses.append(train_loss)\n",
    "\n",
    "    train_acc = compute_accuracy(X_train, y_train, theta)\n",
    "    train_batch_accs.append(train_acc)\n",
    "\n",
    "    y_val_hat = predict(X_val, theta)\n",
    "    val_loss = compute_loss(y_val_hat, y_val)\n",
    "    val_batch_losses.append(val_loss)\n",
    "\n",
    "    val_acc = compute_accuracy(X_val, y_val, theta)\n",
    "    val_batch_accs.append(val_acc)\n",
    "\n",
    "    train_batch_loss = sum(train_batch_losses) / len(train_batch_losses)\n",
    "    val_batch_loss = sum(val_batch_losses) / len(val_batch_losses)\n",
    "    train_batch_acc = sum(train_batch_accs) / len(train_batch_accs)\n",
    "    val_batch_acc = sum(val_batch_accs) / len(val_batch_accs)\n",
    "\n",
    "    train_losses.append(train_batch_loss)\n",
    "    val_losses.append(val_batch_loss)\n",
    "    train_accs.append(train_batch_acc)\n",
    "    val_accs.append(val_batch_acc)\n",
    "\n",
    "    print(f'\\nEPOCH {epoch + 1}:\\tTraining loss: {train_batch_loss:.3f}\\tValidation loss: {val_batch_loss:.3f}')"
   ]
  },
  {
   "cell_type": "markdown",
   "metadata": {},
   "source": [
    "Visualize"
   ]
  },
  {
   "cell_type": "code",
   "execution_count": 29,
   "metadata": {},
   "outputs": [
    {
     "data": {
      "image/png": "[encoded data removed]",
      "text/plain": [
       "<Figure size 1200x1000 with 4 Axes>"
      ]
     },
     "metadata": {},
     "output_type": "display_data"
    }
   ],
   "source": [
    "\n",
    "fig, ax = plt.subplots(2, 2, figsize=(12, 10))\n",
    "ax[0, 0].plot(train_losses)\n",
    "ax[0, 0].set(xlabel='Epoch', ylabel='Loss')\n",
    "ax[0, 0].set_title('Training Loss')\n",
    "\n",
    "ax[0, 1].plot(val_losses, 'orange')\n",
    "ax[0, 1].set(xlabel='Epoch', ylabel='Loss')\n",
    "ax[0, 1].set_title('Validation Loss')\n",
    "\n",
    "ax[1, 0].plot(train_accs)\n",
    "ax[1, 0].set(xlabel='Epoch', ylabel='Accuracy')\n",
    "ax[1, 0].set_title('Training Accuracy')\n",
    "\n",
    "ax[1, 1].plot(val_accs, 'orange')\n",
    "ax[1, 1].set(xlabel='Epoch', ylabel='Accuracy')\n",
    "ax[1, 1].set_title('Validation Accuracy')\n",
    "\n",
    "plt.show()\n"
   ]
  },
  {
   "cell_type": "markdown",
   "metadata": {},
   "source": [
    "**Đánh giá mô hình**"
   ]
  },
  {
   "cell_type": "code",
   "execution_count": 30,
   "metadata": {},
   "outputs": [
    {
     "name": "stdout",
     "output_type": "stream",
     "text": [
      "Evaluation on validation and test set :\n",
      "Accuracy : 0.821969696969697\n",
      "Accuracy : 0.8434343434343434\n"
     ]
    }
   ],
   "source": [
    "val_set_acc = compute_accuracy (X_val , y_val , theta )\n",
    "test_set_acc = compute_accuracy (X_test , y_test , theta )\n",
    "print ('Evaluation on validation and test set :')\n",
    "print (f'Accuracy : { val_set_acc }')\n",
    "print (f'Accuracy : { test_set_acc }')"
   ]
  },
  {
   "cell_type": "code",
   "execution_count": 32,
   "metadata": {},
   "outputs": [
    {
     "data": {
      "text/plain": [
       "0.9298899437785819"
      ]
     },
     "execution_count": 32,
     "metadata": {},
     "output_type": "execute_result"
    }
   ],
   "source": [
    "X = np.array([22.3,-1.5,1.1,1])\n",
    "theta = np.array([0.1,-0.15,0.3,-0.2])\n",
    "cau_13 = predict(X,theta)\n",
    "cau_13"
   ]
  },
  {
   "cell_type": "code",
   "execution_count": 36,
   "metadata": {},
   "outputs": [
    {
     "data": {
      "text/plain": [
       "5.238381154094355"
      ]
     },
     "execution_count": 36,
     "metadata": {},
     "output_type": "execute_result"
    }
   ],
   "source": [
    "y = np.array([1, 0, 0, 1])\n",
    "y_hat = np.array([0.8, 0.75, 0.3,0.95])\n",
    "\n",
    "cau_14 = compute_loss(y,y_hat)\n",
    "cau_14"
   ]
  },
  {
   "cell_type": "code",
   "execution_count": 49,
   "metadata": {},
   "outputs": [
    {
     "data": {
      "text/plain": [
       "array([-0.0625,  0.0625])"
      ]
     },
     "execution_count": 49,
     "metadata": {},
     "output_type": "execute_result"
    }
   ],
   "source": [
    "X = np.array([[1, 2], [2, 1], [1, 1], [2, 2]])\n",
    "y_true = np.array([0, 1, 0, 1])\n",
    "y_pred = np.array([0.25, 0.75, 0.4, 0.8])\n",
    "\n",
    "cau_16 = compute_gradient(X, y_true, y_pred)\n",
    "cau_16"
   ]
  },
  {
   "cell_type": "code",
   "execution_count": 45,
   "metadata": {},
   "outputs": [
    {
     "data": {
      "text/plain": [
       "0.75"
      ]
     },
     "execution_count": 45,
     "metadata": {},
     "output_type": "execute_result"
    }
   ],
   "source": [
    "y_true = np.array([1, 0, 1, 1])\n",
    "y_pred = np.array([0.85, 0.35, 0.9, 0.75])\n",
    "\n",
    "cau_17 = compute_accuracy(y_pred,y_true,theta)\n",
    "cau_17"
   ]
  },
  {
   "cell_type": "code",
   "execution_count": 50,
   "metadata": {},
   "outputs": [
    {
     "data": {
      "text/plain": [
       "array([-0.2125, -0.4   ])"
      ]
     },
     "execution_count": 50,
     "metadata": {},
     "output_type": "execute_result"
    }
   ],
   "source": [
    "X = np.array([[1, 3], [2, 1], [3, 2], [1, 2]])\n",
    "y_true = np.array([1, 0, 1, 1])\n",
    "y_pred = np.array([0.7, 0.4,\n",
    "0.6, 0.85])\n",
    "\n",
    "cau_18 = compute_gradient(X,y_true,y_pred)\n",
    "cau_18"
   ]
  }
 ],
 "metadata": {
  "kernelspec": {
   "display_name": "Python 3",
   "language": "python",
   "name": "python3"
  },
  "language_info": {
   "codemirror_mode": {
    "name": "ipython",
    "version": 3
   },
   "file_extension": ".py",
   "mimetype": "text/x-python",
   "name": "python",
   "nbconvert_exporter": "python",
   "pygments_lexer": "ipython3",
   "version": "3.11.5"
  }
 },
 "nbformat": 4,
 "nbformat_minor": 2
}
