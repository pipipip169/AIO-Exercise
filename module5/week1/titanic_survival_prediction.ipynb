{
 "cells": [
  {
   "cell_type": "markdown",
   "metadata": {},
   "source": [
    "**Import libraries**"
   ]
  },
  {
   "cell_type": "code",
   "execution_count": 49,
   "metadata": {},
   "outputs": [],
   "source": [
    "import pandas as pd\n",
    "import numpy as np\n",
    "import matplotlib . pyplot as plt\n",
    "from sklearn . model_selection import train_test_split\n",
    "from sklearn . preprocessing import StandardScaler"
   ]
  },
  {
   "cell_type": "markdown",
   "metadata": {},
   "source": [
    "**Đọc dữ liệu**"
   ]
  },
  {
   "cell_type": "code",
   "execution_count": 50,
   "metadata": {},
   "outputs": [],
   "source": [
    "dataset_path = 'titanic_modified_dataset.csv'\n",
    "df = pd.read_csv(dataset_path, index_col='PassengerId')"
   ]
  },
  {
   "cell_type": "markdown",
   "metadata": {},
   "source": [
    "**Chia biến X**"
   ]
  },
  {
   "cell_type": "code",
   "execution_count": 51,
   "metadata": {},
   "outputs": [],
   "source": [
    "dataset_arr = df.to_numpy().astype(np.float64)\n",
    "X , y = dataset_arr[:, :-1], dataset_arr[:, -1]"
   ]
  },
  {
   "cell_type": "markdown",
   "metadata": {},
   "source": [
    "**Thêm bias vào X**"
   ]
  },
  {
   "cell_type": "code",
   "execution_count": 82,
   "metadata": {},
   "outputs": [],
   "source": [
    "intercept = np.ones((X.shape[0], 1))\n",
    "X_b = np.concatenate((intercept, X), axis=1)"
   ]
  },
  {
   "cell_type": "markdown",
   "metadata": {},
   "source": [
    "**Chia tập train, val, test**"
   ]
  },
  {
   "cell_type": "code",
   "execution_count": 53,
   "metadata": {},
   "outputs": [],
   "source": [
    "val_size = 0.2\n",
    "test_size = 0.125\n",
    "random_state = 2\n",
    "is_shuffle = True\n",
    "\n",
    "X_train , X_val , y_train , y_val = train_test_split(\n",
    "X_b , y,\n",
    "test_size = val_size ,\n",
    "random_state = random_state ,\n",
    "shuffle = is_shuffle\n",
    ")\n",
    "\n",
    "X_train , X_test , y_train , y_test = train_test_split(\n",
    "X_train , y_train ,\n",
    "test_size = test_size ,\n",
    "random_state = random_state ,\n",
    "shuffle = is_shuffle)"
   ]
  },
  {
   "cell_type": "markdown",
   "metadata": {},
   "source": [
    "**Chuẩn hóa dữ liệu**"
   ]
  },
  {
   "cell_type": "code",
   "execution_count": 54,
   "metadata": {},
   "outputs": [],
   "source": [
    "normalizer = StandardScaler()\n",
    "X_train[:, 1:] = normalizer.fit_transform(X_train[:, 1:])\n",
    "X_val[:, 1:] = normalizer.transform (X_val[:, 1:])\n",
    "X_test[:, 1:] = normalizer.transform (X_test[:, 1:])"
   ]
  },
  {
   "cell_type": "markdown",
   "metadata": {},
   "source": [
    "**Cài đặt các hàm quan trọng**"
   ]
  },
  {
   "cell_type": "markdown",
   "metadata": {},
   "source": [
    "**Hàm sigmoid**"
   ]
  },
  {
   "cell_type": "code",
   "execution_count": 55,
   "metadata": {},
   "outputs": [],
   "source": [
    "def sigmoid(z):\n",
    "    return 1/ (1 + np.exp(-z))"
   ]
  },
  {
   "cell_type": "markdown",
   "metadata": {},
   "source": [
    "**Hàm dự đoán**"
   ]
  },
  {
   "cell_type": "code",
   "execution_count": 56,
   "metadata": {},
   "outputs": [],
   "source": [
    "def predict(X, theta):\n",
    "    dot_product = np.dot(X, theta)\n",
    "    y_hat = sigmoid(dot_product)\n",
    "    return y_hat"
   ]
  },
  {
   "cell_type": "markdown",
   "metadata": {},
   "source": [
    "**Hàm tính loss**"
   ]
  },
  {
   "cell_type": "code",
   "execution_count": 57,
   "metadata": {},
   "outputs": [],
   "source": [
    "def compute_loss (y_hat , y):\n",
    "    y_hat = np.clip(y_hat, 1e-7, 1 - 1e-7)\n",
    "\n",
    "    return (-y * np.log(y_hat) - (1 - y) * np.log(1 - y_hat)).mean()"
   ]
  },
  {
   "cell_type": "markdown",
   "metadata": {},
   "source": [
    "H**àm tính gradiaent**"
   ]
  },
  {
   "cell_type": "code",
   "execution_count": 58,
   "metadata": {},
   "outputs": [],
   "source": [
    "def compute_gradient(X, y, y_hat):\n",
    "    return np.dot(X.T, (y_hat - y))/y.size"
   ]
  },
  {
   "cell_type": "markdown",
   "metadata": {},
   "source": [
    "**Cập nhật trọng số**"
   ]
  },
  {
   "cell_type": "code",
   "execution_count": 59,
   "metadata": {},
   "outputs": [],
   "source": [
    "def update_theta(theta , gradient , lr):\n",
    "     return theta - lr * gradient"
   ]
  },
  {
   "cell_type": "markdown",
   "metadata": {},
   "source": [
    "**Hàm tính độ chính xác**"
   ]
  },
  {
   "cell_type": "code",
   "execution_count": 60,
   "metadata": {},
   "outputs": [],
   "source": [
    "def compute_accuracy(X, y, theta ):\n",
    "    y_hat = predict(X, theta ).round ()\n",
    "    acc = (y_hat == y).mean ()\n",
    "\n",
    "    return acc"
   ]
  },
  {
   "cell_type": "markdown",
   "metadata": {},
   "source": [
    "**Khai báo các siêu tham số và khởi tạo weights**"
   ]
  },
  {
   "cell_type": "code",
   "execution_count": 79,
   "metadata": {},
   "outputs": [],
   "source": [
    "lr = 0.01\n",
    "epochs = 100\n",
    "batch_size = 64\n",
    "\n",
    "np.random.seed(random_state )\n",
    "theta = np.random.uniform(size = X_train.shape[1])"
   ]
  },
  {
   "cell_type": "markdown",
   "metadata": {},
   "source": [
    "**Huấn luyện mô hình**"
   ]
  },
  {
   "cell_type": "code",
   "execution_count": 80,
   "metadata": {},
   "outputs": [
    {
     "name": "stdout",
     "output_type": "stream",
     "text": [
      "\n",
      "EPOCH 1:\tTraining loss: 0.723\tValidation loss: 0.604\n",
      "\n",
      "EPOCH 2:\tTraining loss: 0.713\tValidation loss: 0.599\n",
      "\n",
      "EPOCH 3:\tTraining loss: 0.704\tValidation loss: 0.594\n",
      "\n",
      "EPOCH 4:\tTraining loss: 0.695\tValidation loss: 0.589\n",
      "\n",
      "EPOCH 5:\tTraining loss: 0.686\tValidation loss: 0.585\n",
      "\n",
      "EPOCH 6:\tTraining loss: 0.677\tValidation loss: 0.581\n",
      "\n",
      "EPOCH 7:\tTraining loss: 0.669\tValidation loss: 0.577\n",
      "\n",
      "EPOCH 8:\tTraining loss: 0.661\tValidation loss: 0.573\n",
      "\n",
      "EPOCH 9:\tTraining loss: 0.654\tValidation loss: 0.569\n",
      "\n",
      "EPOCH 10:\tTraining loss: 0.646\tValidation loss: 0.566\n",
      "\n",
      "EPOCH 11:\tTraining loss: 0.639\tValidation loss: 0.562\n",
      "\n",
      "EPOCH 12:\tTraining loss: 0.632\tValidation loss: 0.559\n",
      "\n",
      "EPOCH 13:\tTraining loss: 0.625\tValidation loss: 0.556\n",
      "\n",
      "EPOCH 14:\tTraining loss: 0.619\tValidation loss: 0.553\n",
      "\n",
      "EPOCH 15:\tTraining loss: 0.612\tValidation loss: 0.550\n",
      "\n",
      "EPOCH 16:\tTraining loss: 0.606\tValidation loss: 0.547\n",
      "\n",
      "EPOCH 17:\tTraining loss: 0.600\tValidation loss: 0.545\n",
      "\n",
      "EPOCH 18:\tTraining loss: 0.594\tValidation loss: 0.542\n",
      "\n",
      "EPOCH 19:\tTraining loss: 0.589\tValidation loss: 0.540\n",
      "\n",
      "EPOCH 20:\tTraining loss: 0.584\tValidation loss: 0.538\n",
      "\n",
      "EPOCH 21:\tTraining loss: 0.578\tValidation loss: 0.536\n",
      "\n",
      "EPOCH 22:\tTraining loss: 0.573\tValidation loss: 0.534\n",
      "\n",
      "EPOCH 23:\tTraining loss: 0.569\tValidation loss: 0.532\n",
      "\n",
      "EPOCH 24:\tTraining loss: 0.564\tValidation loss: 0.530\n",
      "\n",
      "EPOCH 25:\tTraining loss: 0.559\tValidation loss: 0.528\n",
      "\n",
      "EPOCH 26:\tTraining loss: 0.555\tValidation loss: 0.526\n",
      "\n",
      "EPOCH 27:\tTraining loss: 0.551\tValidation loss: 0.525\n",
      "\n",
      "EPOCH 28:\tTraining loss: 0.547\tValidation loss: 0.523\n",
      "\n",
      "EPOCH 29:\tTraining loss: 0.543\tValidation loss: 0.522\n",
      "\n",
      "EPOCH 30:\tTraining loss: 0.539\tValidation loss: 0.521\n",
      "\n",
      "EPOCH 31:\tTraining loss: 0.535\tValidation loss: 0.519\n",
      "\n",
      "EPOCH 32:\tTraining loss: 0.532\tValidation loss: 0.518\n",
      "\n",
      "EPOCH 33:\tTraining loss: 0.529\tValidation loss: 0.517\n",
      "\n",
      "EPOCH 34:\tTraining loss: 0.525\tValidation loss: 0.516\n",
      "\n",
      "EPOCH 35:\tTraining loss: 0.522\tValidation loss: 0.515\n",
      "\n",
      "EPOCH 36:\tTraining loss: 0.519\tValidation loss: 0.514\n",
      "\n",
      "EPOCH 37:\tTraining loss: 0.516\tValidation loss: 0.513\n",
      "\n",
      "EPOCH 38:\tTraining loss: 0.513\tValidation loss: 0.512\n",
      "\n",
      "EPOCH 39:\tTraining loss: 0.510\tValidation loss: 0.511\n",
      "\n",
      "EPOCH 40:\tTraining loss: 0.508\tValidation loss: 0.510\n",
      "\n",
      "EPOCH 41:\tTraining loss: 0.505\tValidation loss: 0.510\n",
      "\n",
      "EPOCH 42:\tTraining loss: 0.503\tValidation loss: 0.509\n",
      "\n",
      "EPOCH 43:\tTraining loss: 0.500\tValidation loss: 0.508\n",
      "\n",
      "EPOCH 44:\tTraining loss: 0.498\tValidation loss: 0.508\n",
      "\n",
      "EPOCH 45:\tTraining loss: 0.496\tValidation loss: 0.507\n",
      "\n",
      "EPOCH 46:\tTraining loss: 0.493\tValidation loss: 0.507\n",
      "\n",
      "EPOCH 47:\tTraining loss: 0.491\tValidation loss: 0.506\n",
      "\n",
      "EPOCH 48:\tTraining loss: 0.489\tValidation loss: 0.506\n",
      "\n",
      "EPOCH 49:\tTraining loss: 0.487\tValidation loss: 0.505\n",
      "\n",
      "EPOCH 50:\tTraining loss: 0.485\tValidation loss: 0.505\n",
      "\n",
      "EPOCH 51:\tTraining loss: 0.484\tValidation loss: 0.505\n",
      "\n",
      "EPOCH 52:\tTraining loss: 0.482\tValidation loss: 0.504\n",
      "\n",
      "EPOCH 53:\tTraining loss: 0.480\tValidation loss: 0.504\n",
      "\n",
      "EPOCH 54:\tTraining loss: 0.478\tValidation loss: 0.504\n",
      "\n",
      "EPOCH 55:\tTraining loss: 0.477\tValidation loss: 0.503\n",
      "\n",
      "EPOCH 56:\tTraining loss: 0.475\tValidation loss: 0.503\n",
      "\n",
      "EPOCH 57:\tTraining loss: 0.474\tValidation loss: 0.503\n",
      "\n",
      "EPOCH 58:\tTraining loss: 0.472\tValidation loss: 0.503\n",
      "\n",
      "EPOCH 59:\tTraining loss: 0.471\tValidation loss: 0.502\n",
      "\n",
      "EPOCH 60:\tTraining loss: 0.469\tValidation loss: 0.502\n",
      "\n",
      "EPOCH 61:\tTraining loss: 0.468\tValidation loss: 0.502\n",
      "\n",
      "EPOCH 62:\tTraining loss: 0.467\tValidation loss: 0.502\n",
      "\n",
      "EPOCH 63:\tTraining loss: 0.465\tValidation loss: 0.502\n",
      "\n",
      "EPOCH 64:\tTraining loss: 0.464\tValidation loss: 0.502\n",
      "\n",
      "EPOCH 65:\tTraining loss: 0.463\tValidation loss: 0.501\n",
      "\n",
      "EPOCH 66:\tTraining loss: 0.462\tValidation loss: 0.501\n",
      "\n",
      "EPOCH 67:\tTraining loss: 0.461\tValidation loss: 0.501\n",
      "\n",
      "EPOCH 68:\tTraining loss: 0.460\tValidation loss: 0.501\n",
      "\n",
      "EPOCH 69:\tTraining loss: 0.459\tValidation loss: 0.501\n",
      "\n",
      "EPOCH 70:\tTraining loss: 0.458\tValidation loss: 0.501\n",
      "\n",
      "EPOCH 71:\tTraining loss: 0.457\tValidation loss: 0.501\n",
      "\n",
      "EPOCH 72:\tTraining loss: 0.456\tValidation loss: 0.501\n",
      "\n",
      "EPOCH 73:\tTraining loss: 0.455\tValidation loss: 0.501\n",
      "\n",
      "EPOCH 74:\tTraining loss: 0.454\tValidation loss: 0.501\n",
      "\n",
      "EPOCH 75:\tTraining loss: 0.453\tValidation loss: 0.501\n",
      "\n",
      "EPOCH 76:\tTraining loss: 0.452\tValidation loss: 0.501\n",
      "\n",
      "EPOCH 77:\tTraining loss: 0.451\tValidation loss: 0.501\n",
      "\n",
      "EPOCH 78:\tTraining loss: 0.450\tValidation loss: 0.501\n",
      "\n",
      "EPOCH 79:\tTraining loss: 0.450\tValidation loss: 0.501\n",
      "\n",
      "EPOCH 80:\tTraining loss: 0.449\tValidation loss: 0.501\n",
      "\n",
      "EPOCH 81:\tTraining loss: 0.448\tValidation loss: 0.501\n",
      "\n",
      "EPOCH 82:\tTraining loss: 0.447\tValidation loss: 0.501\n",
      "\n",
      "EPOCH 83:\tTraining loss: 0.447\tValidation loss: 0.501\n",
      "\n",
      "EPOCH 84:\tTraining loss: 0.446\tValidation loss: 0.501\n",
      "\n",
      "EPOCH 85:\tTraining loss: 0.445\tValidation loss: 0.501\n",
      "\n",
      "EPOCH 86:\tTraining loss: 0.445\tValidation loss: 0.501\n",
      "\n",
      "EPOCH 87:\tTraining loss: 0.444\tValidation loss: 0.501\n",
      "\n",
      "EPOCH 88:\tTraining loss: 0.443\tValidation loss: 0.501\n",
      "\n",
      "EPOCH 89:\tTraining loss: 0.443\tValidation loss: 0.501\n",
      "\n",
      "EPOCH 90:\tTraining loss: 0.442\tValidation loss: 0.501\n",
      "\n",
      "EPOCH 91:\tTraining loss: 0.442\tValidation loss: 0.502\n",
      "\n",
      "EPOCH 92:\tTraining loss: 0.441\tValidation loss: 0.502\n",
      "\n",
      "EPOCH 93:\tTraining loss: 0.440\tValidation loss: 0.502\n",
      "\n",
      "EPOCH 94:\tTraining loss: 0.440\tValidation loss: 0.502\n",
      "\n",
      "EPOCH 95:\tTraining loss: 0.439\tValidation loss: 0.502\n",
      "\n",
      "EPOCH 96:\tTraining loss: 0.439\tValidation loss: 0.502\n",
      "\n",
      "EPOCH 97:\tTraining loss: 0.438\tValidation loss: 0.502\n",
      "\n",
      "EPOCH 98:\tTraining loss: 0.438\tValidation loss: 0.502\n",
      "\n",
      "EPOCH 99:\tTraining loss: 0.437\tValidation loss: 0.502\n",
      "\n",
      "EPOCH 100:\tTraining loss: 0.437\tValidation loss: 0.502\n"
     ]
    }
   ],
   "source": [
    "train_accs = []\n",
    "train_losses = []\n",
    "val_accs = []\n",
    "val_losses = []\n",
    "\n",
    "for epoch in range(epochs):\n",
    "    train_batch_losses = []\n",
    "    train_batch_accs = []\n",
    "    val_batch_losses = []\n",
    "    val_batch_accs = []\n",
    "\n",
    "    for i in range(0, X_train.shape[0], batch_size):\n",
    "        X_i = X_train[i:i + batch_size]\n",
    "        y_i = y_train[i:i + batch_size]\n",
    "\n",
    "        y_hat = predict(X_i, theta)\n",
    "\n",
    "        train_loss = compute_loss(y_hat, y_i)\n",
    "\n",
    "        gradient = compute_gradient(X_i, y_i, y_hat)\n",
    "\n",
    "        theta = update_theta(theta, gradient, lr)\n",
    "\n",
    "        train_batch_losses.append(train_loss)\n",
    "\n",
    "    train_acc = compute_accuracy(X_train, y_train, theta)\n",
    "    train_batch_accs.append(train_acc)\n",
    "\n",
    "    y_val_hat = predict(X_val, theta)\n",
    "    val_loss = compute_loss(y_val_hat, y_val)\n",
    "    val_batch_losses.append(val_loss)\n",
    "\n",
    "    val_acc = compute_accuracy(X_val, y_val, theta)\n",
    "    val_batch_accs.append(val_acc)\n",
    "\n",
    "    train_batch_loss = sum(train_batch_losses) / len(train_batch_losses)\n",
    "    val_batch_loss = sum(val_batch_losses) / len(val_batch_losses)\n",
    "    train_batch_acc = sum(train_batch_accs) / len(train_batch_accs)\n",
    "    val_batch_acc = sum(val_batch_accs) / len(val_batch_accs)\n",
    "\n",
    "    train_losses.append(train_batch_loss)\n",
    "    val_losses.append(val_batch_loss)\n",
    "    train_accs.append(train_batch_acc)\n",
    "    val_accs.append(val_batch_acc)\n",
    "\n",
    "    print(f'\\nEPOCH {epoch + 1}:\\tTraining loss: {train_batch_loss:.3f}\\tValidation loss: {val_batch_loss:.3f}')"
   ]
  },
  {
   "cell_type": "markdown",
   "metadata": {},
   "source": [
    "Visualize"
   ]
  },
  {
   "cell_type": "code",
   "execution_count": 81,
   "metadata": {},
   "outputs": [
    {
     "data": {
      "image/png": "[encoded data removed]",
      "text/plain": [
       "<Figure size 1200x1000 with 4 Axes>"
      ]
     },
     "metadata": {},
     "output_type": "display_data"
    }
   ],
   "source": [
    "\n",
    "fig, ax = plt.subplots(2, 2, figsize=(12, 10))\n",
    "ax[0, 0].plot(train_losses)\n",
    "ax[0, 0].set(xlabel='Epoch', ylabel='Loss')\n",
    "ax[0, 0].set_title('Training Loss')\n",
    "\n",
    "ax[0, 1].plot(val_losses, 'orange')\n",
    "ax[0, 1].set(xlabel='Epoch', ylabel='Loss')\n",
    "ax[0, 1].set_title('Validation Loss')\n",
    "\n",
    "ax[1, 0].plot(train_accs)\n",
    "ax[1, 0].set(xlabel='Epoch', ylabel='Accuracy')\n",
    "ax[1, 0].set_title('Training Accuracy')\n",
    "\n",
    "ax[1, 1].plot(val_accs, 'orange')\n",
    "ax[1, 1].set(xlabel='Epoch', ylabel='Accuracy')\n",
    "ax[1, 1].set_title('Validation Accuracy')\n",
    "\n",
    "plt.show()\n"
   ]
  },
  {
   "cell_type": "markdown",
   "metadata": {},
   "source": [
    "**Đánh giá mô hình**"
   ]
  },
  {
   "cell_type": "code",
   "execution_count": 84,
   "metadata": {},
   "outputs": [
    {
     "name": "stdout",
     "output_type": "stream",
     "text": [
      "Evaluation on validation and test set :\n",
      "Accuracy : 0.7541899441340782\n",
      "Accuracy : 0.7528089887640449\n"
     ]
    }
   ],
   "source": [
    "val_set_acc = compute_accuracy (X_val , y_val , theta )\n",
    "test_set_acc = compute_accuracy (X_test , y_test , theta )\n",
    "print ('Evaluation on validation and test set :')\n",
    "print (f'Accuracy : { val_set_acc }')\n",
    "print (f'Accuracy : { test_set_acc }')"
   ]
  }
 ],
 "metadata": {
  "kernelspec": {
   "display_name": "Python 3",
   "language": "python",
   "name": "python3"
  },
  "language_info": {
   "codemirror_mode": {
    "name": "ipython",
    "version": 3
   },
   "file_extension": ".py",
   "mimetype": "text/x-python",
   "name": "python",
   "nbconvert_exporter": "python",
   "pygments_lexer": "ipython3",
   "version": "3.12.4"
  }
 },
 "nbformat": 4,
 "nbformat_minor": 2
}
